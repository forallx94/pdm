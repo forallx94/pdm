{
 "metadata": {
  "language_info": {
   "codemirror_mode": {
    "name": "ipython",
    "version": 3
   },
   "file_extension": ".py",
   "mimetype": "text/x-python",
   "name": "python",
   "nbconvert_exporter": "python",
   "pygments_lexer": "ipython3",
   "version": "3.8.10"
  },
  "orig_nbformat": 4,
  "kernelspec": {
   "name": "python3",
   "display_name": "Python 3.8.10 64-bit ('py38tf2': conda)"
  },
  "interpreter": {
   "hash": "18a7369caa11a2133f0df769e28749b20d2496384fadcf7674aeee4e42b24e12"
  }
 },
 "nbformat": 4,
 "nbformat_minor": 2,
 "cells": [
  {
   "source": [
    "repo : https://github.com/Azure/lstms_for_predictive_maintenance"
   ],
   "cell_type": "markdown",
   "metadata": {}
  },
  {
   "cell_type": "code",
   "execution_count": 1,
   "metadata": {},
   "outputs": [],
   "source": [
    "import pandas as pd\n",
    "import numpy as np\n",
    "\n",
    "from sklearn.preprocessing import StandardScaler\n",
    "\n",
    "import tensorflow as tf\n",
    "import tensorflow.keras as keras\n",
    "from tensorflow.keras.models import Sequential\n",
    "from tensorflow.keras.layers import Dense, Dropout, LSTM, Activation\n",
    "\n",
    "from sklearn.metrics import confusion_matrix, recall_score, precision_score"
   ]
  },
  {
   "cell_type": "code",
   "execution_count": 2,
   "metadata": {},
   "outputs": [],
   "source": [
    "np.random.seed(42)\n",
    "tf.random.set_seed(42)"
   ]
  },
  {
   "cell_type": "code",
   "execution_count": 3,
   "metadata": {},
   "outputs": [],
   "source": [
    "telemetry = pd.read_csv('./data/PdM_telemetry.csv')\n",
    "errors = pd.read_csv('./data/PdM_errors.csv')\n",
    "maint = pd.read_csv('./data/PdM_maint.csv')\n",
    "failures = pd.read_csv('./data/PdM_failures.csv')\n",
    "machines = pd.read_csv('./data/PdM_machines.csv')"
   ]
  },
  {
   "cell_type": "code",
   "execution_count": 4,
   "metadata": {},
   "outputs": [],
   "source": [
    "telemetry['datetime'] = pd.to_datetime(telemetry['datetime'], format=\"%Y-%m-%d %H:%M:%S\")\n",
    "\n",
    "errors['datetime'] = pd.to_datetime(errors['datetime'],format = '%Y-%m-%d %H:%M:%S')\n",
    "errors['errorID'] = errors['errorID'].astype('category')\n",
    "\n",
    "maint['datetime'] = pd.to_datetime(maint['datetime'], format='%Y-%m-%d %H:%M:%S')\n",
    "maint['comp'] = maint['comp'].astype('category')\n",
    "\n",
    "machines['model'] = machines['model'].astype('category')\n",
    "\n",
    "failures['datetime'] = pd.to_datetime(failures['datetime'], format=\"%Y-%m-%d %H:%M:%S\")\n",
    "failures['failure'] = failures['failure'].astype('category')"
   ]
  },
  {
   "cell_type": "code",
   "execution_count": 5,
   "metadata": {},
   "outputs": [],
   "source": [
    "# create a column for each error type\n",
    "# error 별 column 생성\n",
    "error_count = pd.get_dummies(errors.set_index('datetime')).reset_index()\n",
    "error_count.columns = ['datetime', 'machineID', 'error1', 'error2', 'error3', 'error4', 'error5']\n",
    "# 같은 시간으로 통합\n",
    "error_count = error_count.groupby(['machineID','datetime']).sum().reset_index()\n",
    "# telemetry 에 통합\n",
    "error_count = telemetry[['datetime', 'machineID']].merge(error_count, on=['machineID', 'datetime'], how='left').fillna(0.0)\n",
    "error_count = error_count.dropna()"
   ]
  },
  {
   "cell_type": "code",
   "execution_count": 6,
   "metadata": {},
   "outputs": [
    {
     "output_type": "stream",
     "name": "stderr",
     "text": [
      "C:\\Users\\USER\\anaconda3\\envs\\py38tf2\\lib\\site-packages\\pandas\\core\\arrays\\datetimelike.py:1108: PerformanceWarning: Adding/subtracting object-dtype array to DatetimeArray not vectorized\n  warnings.warn(\n"
     ]
    }
   ],
   "source": [
    "# create a column for each error type\n",
    "# 각 부품별로 생성후 column 명 설정\n",
    "comp_rep = pd.get_dummies(maint.set_index('datetime')).reset_index()\n",
    "comp_rep.columns = ['datetime', 'machineID', 'comp1', 'comp2', 'comp3', 'comp4']\n",
    "\n",
    "# combine repairs for a given machine in a given hour\n",
    "# 기계와 시간별로 교체 부품 정리\n",
    "comp_rep = comp_rep.groupby(['machineID', 'datetime']).sum().reset_index()\n",
    "\n",
    "# add timepoints where no components were replaced\n",
    "# telemetry 데이터에 데이터 결합\n",
    "comp_rep = telemetry[['datetime', 'machineID']].merge(comp_rep,\n",
    "                                                      on=['datetime', 'machineID'],\n",
    "                                                      how='outer').fillna(0).sort_values(by=['machineID', 'datetime'])\n",
    "\n",
    "components = ['comp1', 'comp2', 'comp3', 'comp4']\n",
    "for comp in components:\n",
    "    # convert indicator to most recent date of component change\n",
    "    comp_rep.loc[comp_rep[comp] < 1, comp] = None # 0.0인 위치를 모두 None 으로 변경\n",
    "    comp_rep.loc[-comp_rep[comp].isnull(), comp] = comp_rep.loc[-comp_rep[comp].isnull(), 'datetime']\n",
    "    # -comp_rep[comp].isnull() comp_req 의 comp columns 에서 None 이 아닌 부분을 선택(즉 해당 부품의 교체가 발생된 날짜 선택)\n",
    "    # 해당 부분의 내용을 시간으로 변경\n",
    "    \n",
    "    # forward-fill the most-recent date of component change\n",
    "    # 나머지 빈 부분을 모두 해당 시간으로 교체 (즉 부품 교체일로 변경 날짜)\n",
    "    comp_rep[comp] = comp_rep[comp].fillna(method='ffill')\n",
    "\n",
    "# remove dates in 2014 (may have NaN or future component change dates)    \n",
    "# 2014년 이상의 데이터만 선택\n",
    "comp_rep = comp_rep.loc[comp_rep['datetime'] > pd.to_datetime('2015-01-01')]\n",
    "\n",
    "# replace dates of most recent component change with days since most recent component change\n",
    "# 각 comp 내용을 부품 교체일 부터 얼마나 지났는지로 변경\n",
    "for comp in components:\n",
    "    comp_rep[comp] = (comp_rep['datetime'] - comp_rep[comp]) / np.timedelta64(1, 'D')"
   ]
  },
  {
   "cell_type": "code",
   "execution_count": 7,
   "metadata": {},
   "outputs": [],
   "source": [
    "# 통합 과정\n",
    "final_feat = telemetry.merge(error_count, on=['datetime', 'machineID'], how='left')\n",
    "final_feat = final_feat.merge(comp_rep, on=['datetime', 'machineID'], how='left')\n",
    "final_feat = final_feat.merge(machines, on=['machineID'], how='left')"
   ]
  },
  {
   "cell_type": "code",
   "execution_count": 8,
   "metadata": {},
   "outputs": [],
   "source": [
    "# failure 결합\n",
    "labeled_features = final_feat.merge(failures, on=['datetime', 'machineID'], how='left')\n",
    "# fillna 가 str일 경우 작동하지 않는 문제 발견 하여 comp 의 마지막 단어를 추출하여 fillna 진행후 comp를 다시 붙이는 방식으로 해결\n",
    "labeled_features.failure = 'comp' + labeled_features.failure.str[-1].fillna(method='bfill', limit=23) # 앞선 23칸을 failure 로 설정\n",
    "labeled_features.failure = labeled_features.failure.fillna('none') # 나머지를 none 으로 설정"
   ]
  },
  {
   "cell_type": "code",
   "execution_count": 9,
   "metadata": {},
   "outputs": [
    {
     "output_type": "execute_result",
     "data": {
      "text/plain": [
       "              datetime  machineID        volt      rotate    pressure  \\\n",
       "73 2015-01-04 07:00:00          1  142.666469  433.279499  118.853452   \n",
       "74 2015-01-04 08:00:00          1  191.168936  479.615136  101.999663   \n",
       "75 2015-01-04 09:00:00          1  157.436263  438.091311  113.100915   \n",
       "76 2015-01-04 10:00:00          1  153.143558  440.162685   94.524894   \n",
       "77 2015-01-04 11:00:00          1  215.656488  458.097746   95.036280   \n",
       "78 2015-01-04 12:00:00          1  173.525320  421.728389  100.617527   \n",
       "79 2015-01-04 13:00:00          1  169.501121  454.460114   91.675576   \n",
       "80 2015-01-04 14:00:00          1  129.016707  479.457721  111.575038   \n",
       "81 2015-01-04 15:00:00          1  168.503141  455.536868   83.689837   \n",
       "82 2015-01-04 16:00:00          1  184.640476  365.213804   87.474009   \n",
       "83 2015-01-04 17:00:00          1  176.208034  517.348533   82.400818   \n",
       "84 2015-01-04 18:00:00          1  183.684832  414.481164  111.684659   \n",
       "85 2015-01-04 19:00:00          1  199.755983  425.832560  107.335080   \n",
       "86 2015-01-04 20:00:00          1  187.536628  427.763970  103.159963   \n",
       "87 2015-01-04 21:00:00          1  162.368945  458.491868   95.748683   \n",
       "88 2015-01-04 22:00:00          1  180.562703  447.101400   89.260131   \n",
       "89 2015-01-04 23:00:00          1  167.023756  471.194987   89.474271   \n",
       "90 2015-01-05 00:00:00          1  161.928938  376.719605   89.969588   \n",
       "91 2015-01-05 01:00:00          1  127.163620  430.475185   95.667178   \n",
       "92 2015-01-05 02:00:00          1  158.155297  429.346217   94.892589   \n",
       "93 2015-01-05 03:00:00          1  177.317220  461.801246  103.056344   \n",
       "94 2015-01-05 04:00:00          1  202.520488  387.005318   94.686208   \n",
       "95 2015-01-05 05:00:00          1  177.510419  469.787301  100.498426   \n",
       "96 2015-01-05 06:00:00          1  179.303153  499.777962  111.833028   \n",
       "97 2015-01-05 07:00:00          1  155.511452  498.398435  103.068134   \n",
       "98 2015-01-05 08:00:00          1  172.439821  392.124959  108.135159   \n",
       "99 2015-01-05 09:00:00          1  138.826437  451.348967  126.464580   \n",
       "\n",
       "    vibration  error1  error2  error3  error4  error5      comp1       comp2  \\\n",
       "73  54.848731     0.0     0.0     0.0     0.0     0.0  22.041667  217.041667   \n",
       "74  52.882567     0.0     0.0     0.0     0.0     0.0  22.083333  217.083333   \n",
       "75  53.695544     0.0     0.0     0.0     0.0     0.0  22.125000  217.125000   \n",
       "76  57.411078     0.0     0.0     0.0     0.0     0.0  22.166667  217.166667   \n",
       "77  51.647981     0.0     0.0     0.0     0.0     0.0  22.208333  217.208333   \n",
       "78  50.458297     0.0     0.0     0.0     0.0     0.0  22.250000  217.250000   \n",
       "79  45.951349     0.0     0.0     0.0     0.0     0.0  22.291667  217.291667   \n",
       "80  49.398412     0.0     0.0     0.0     0.0     0.0  22.333333  217.333333   \n",
       "81  43.917862     0.0     0.0     0.0     0.0     0.0  22.375000  217.375000   \n",
       "82  52.048152     0.0     0.0     0.0     0.0     0.0  22.416667  217.416667   \n",
       "83  46.950492     0.0     0.0     0.0     0.0     0.0  22.458333  217.458333   \n",
       "84  56.837165     0.0     0.0     0.0     0.0     0.0  22.500000  217.500000   \n",
       "85  41.674887     0.0     0.0     0.0     0.0     0.0  22.541667  217.541667   \n",
       "86  50.146515     0.0     0.0     0.0     0.0     0.0  22.583333  217.583333   \n",
       "87  50.240045     0.0     0.0     0.0     0.0     0.0  22.625000  217.625000   \n",
       "88  51.941914     0.0     0.0     0.0     0.0     0.0  22.666667  217.666667   \n",
       "89  62.464103     0.0     0.0     0.0     0.0     0.0  22.708333  217.708333   \n",
       "90  58.087488     0.0     0.0     0.0     0.0     0.0  22.750000  217.750000   \n",
       "91  46.845600     0.0     0.0     0.0     0.0     0.0  22.791667  217.791667   \n",
       "92  58.225151     0.0     0.0     0.0     0.0     0.0  22.833333  217.833333   \n",
       "93  49.894647     0.0     0.0     0.0     0.0     0.0  22.875000  217.875000   \n",
       "94  45.202347     0.0     0.0     0.0     0.0     0.0  22.916667  217.916667   \n",
       "95  59.577251     0.0     0.0     0.0     0.0     0.0  22.958333  217.958333   \n",
       "96  52.383097     0.0     0.0     0.0     0.0     0.0   0.000000  218.000000   \n",
       "97  33.270415     0.0     0.0     0.0     0.0     0.0   0.041667  218.041667   \n",
       "98  39.477497     0.0     0.0     0.0     0.0     0.0   0.083333  218.083333   \n",
       "99  38.257462     0.0     0.0     0.0     0.0     0.0   0.125000  218.125000   \n",
       "\n",
       "         comp3       comp4   model  age failure  \n",
       "73  157.041667  172.041667  model3   18   comp4  \n",
       "74  157.083333  172.083333  model3   18   comp4  \n",
       "75  157.125000  172.125000  model3   18   comp4  \n",
       "76  157.166667  172.166667  model3   18   comp4  \n",
       "77  157.208333  172.208333  model3   18   comp4  \n",
       "78  157.250000  172.250000  model3   18   comp4  \n",
       "79  157.291667  172.291667  model3   18   comp4  \n",
       "80  157.333333  172.333333  model3   18   comp4  \n",
       "81  157.375000  172.375000  model3   18   comp4  \n",
       "82  157.416667  172.416667  model3   18   comp4  \n",
       "83  157.458333  172.458333  model3   18   comp4  \n",
       "84  157.500000  172.500000  model3   18   comp4  \n",
       "85  157.541667  172.541667  model3   18   comp4  \n",
       "86  157.583333  172.583333  model3   18   comp4  \n",
       "87  157.625000  172.625000  model3   18   comp4  \n",
       "88  157.666667  172.666667  model3   18   comp4  \n",
       "89  157.708333  172.708333  model3   18   comp4  \n",
       "90  157.750000  172.750000  model3   18   comp4  \n",
       "91  157.791667  172.791667  model3   18   comp4  \n",
       "92  157.833333  172.833333  model3   18   comp4  \n",
       "93  157.875000  172.875000  model3   18   comp4  \n",
       "94  157.916667  172.916667  model3   18   comp4  \n",
       "95  157.958333  172.958333  model3   18   comp4  \n",
       "96  158.000000    0.000000  model3   18   comp4  \n",
       "97  158.041667    0.041667  model3   18    none  \n",
       "98  158.083333    0.083333  model3   18    none  \n",
       "99  158.125000    0.125000  model3   18    none  "
      ],
      "text/html": "<div>\n<style scoped>\n    .dataframe tbody tr th:only-of-type {\n        vertical-align: middle;\n    }\n\n    .dataframe tbody tr th {\n        vertical-align: top;\n    }\n\n    .dataframe thead th {\n        text-align: right;\n    }\n</style>\n<table border=\"1\" class=\"dataframe\">\n  <thead>\n    <tr style=\"text-align: right;\">\n      <th></th>\n      <th>datetime</th>\n      <th>machineID</th>\n      <th>volt</th>\n      <th>rotate</th>\n      <th>pressure</th>\n      <th>vibration</th>\n      <th>error1</th>\n      <th>error2</th>\n      <th>error3</th>\n      <th>error4</th>\n      <th>error5</th>\n      <th>comp1</th>\n      <th>comp2</th>\n      <th>comp3</th>\n      <th>comp4</th>\n      <th>model</th>\n      <th>age</th>\n      <th>failure</th>\n    </tr>\n  </thead>\n  <tbody>\n    <tr>\n      <th>73</th>\n      <td>2015-01-04 07:00:00</td>\n      <td>1</td>\n      <td>142.666469</td>\n      <td>433.279499</td>\n      <td>118.853452</td>\n      <td>54.848731</td>\n      <td>0.0</td>\n      <td>0.0</td>\n      <td>0.0</td>\n      <td>0.0</td>\n      <td>0.0</td>\n      <td>22.041667</td>\n      <td>217.041667</td>\n      <td>157.041667</td>\n      <td>172.041667</td>\n      <td>model3</td>\n      <td>18</td>\n      <td>comp4</td>\n    </tr>\n    <tr>\n      <th>74</th>\n      <td>2015-01-04 08:00:00</td>\n      <td>1</td>\n      <td>191.168936</td>\n      <td>479.615136</td>\n      <td>101.999663</td>\n      <td>52.882567</td>\n      <td>0.0</td>\n      <td>0.0</td>\n      <td>0.0</td>\n      <td>0.0</td>\n      <td>0.0</td>\n      <td>22.083333</td>\n      <td>217.083333</td>\n      <td>157.083333</td>\n      <td>172.083333</td>\n      <td>model3</td>\n      <td>18</td>\n      <td>comp4</td>\n    </tr>\n    <tr>\n      <th>75</th>\n      <td>2015-01-04 09:00:00</td>\n      <td>1</td>\n      <td>157.436263</td>\n      <td>438.091311</td>\n      <td>113.100915</td>\n      <td>53.695544</td>\n      <td>0.0</td>\n      <td>0.0</td>\n      <td>0.0</td>\n      <td>0.0</td>\n      <td>0.0</td>\n      <td>22.125000</td>\n      <td>217.125000</td>\n      <td>157.125000</td>\n      <td>172.125000</td>\n      <td>model3</td>\n      <td>18</td>\n      <td>comp4</td>\n    </tr>\n    <tr>\n      <th>76</th>\n      <td>2015-01-04 10:00:00</td>\n      <td>1</td>\n      <td>153.143558</td>\n      <td>440.162685</td>\n      <td>94.524894</td>\n      <td>57.411078</td>\n      <td>0.0</td>\n      <td>0.0</td>\n      <td>0.0</td>\n      <td>0.0</td>\n      <td>0.0</td>\n      <td>22.166667</td>\n      <td>217.166667</td>\n      <td>157.166667</td>\n      <td>172.166667</td>\n      <td>model3</td>\n      <td>18</td>\n      <td>comp4</td>\n    </tr>\n    <tr>\n      <th>77</th>\n      <td>2015-01-04 11:00:00</td>\n      <td>1</td>\n      <td>215.656488</td>\n      <td>458.097746</td>\n      <td>95.036280</td>\n      <td>51.647981</td>\n      <td>0.0</td>\n      <td>0.0</td>\n      <td>0.0</td>\n      <td>0.0</td>\n      <td>0.0</td>\n      <td>22.208333</td>\n      <td>217.208333</td>\n      <td>157.208333</td>\n      <td>172.208333</td>\n      <td>model3</td>\n      <td>18</td>\n      <td>comp4</td>\n    </tr>\n    <tr>\n      <th>78</th>\n      <td>2015-01-04 12:00:00</td>\n      <td>1</td>\n      <td>173.525320</td>\n      <td>421.728389</td>\n      <td>100.617527</td>\n      <td>50.458297</td>\n      <td>0.0</td>\n      <td>0.0</td>\n      <td>0.0</td>\n      <td>0.0</td>\n      <td>0.0</td>\n      <td>22.250000</td>\n      <td>217.250000</td>\n      <td>157.250000</td>\n      <td>172.250000</td>\n      <td>model3</td>\n      <td>18</td>\n      <td>comp4</td>\n    </tr>\n    <tr>\n      <th>79</th>\n      <td>2015-01-04 13:00:00</td>\n      <td>1</td>\n      <td>169.501121</td>\n      <td>454.460114</td>\n      <td>91.675576</td>\n      <td>45.951349</td>\n      <td>0.0</td>\n      <td>0.0</td>\n      <td>0.0</td>\n      <td>0.0</td>\n      <td>0.0</td>\n      <td>22.291667</td>\n      <td>217.291667</td>\n      <td>157.291667</td>\n      <td>172.291667</td>\n      <td>model3</td>\n      <td>18</td>\n      <td>comp4</td>\n    </tr>\n    <tr>\n      <th>80</th>\n      <td>2015-01-04 14:00:00</td>\n      <td>1</td>\n      <td>129.016707</td>\n      <td>479.457721</td>\n      <td>111.575038</td>\n      <td>49.398412</td>\n      <td>0.0</td>\n      <td>0.0</td>\n      <td>0.0</td>\n      <td>0.0</td>\n      <td>0.0</td>\n      <td>22.333333</td>\n      <td>217.333333</td>\n      <td>157.333333</td>\n      <td>172.333333</td>\n      <td>model3</td>\n      <td>18</td>\n      <td>comp4</td>\n    </tr>\n    <tr>\n      <th>81</th>\n      <td>2015-01-04 15:00:00</td>\n      <td>1</td>\n      <td>168.503141</td>\n      <td>455.536868</td>\n      <td>83.689837</td>\n      <td>43.917862</td>\n      <td>0.0</td>\n      <td>0.0</td>\n      <td>0.0</td>\n      <td>0.0</td>\n      <td>0.0</td>\n      <td>22.375000</td>\n      <td>217.375000</td>\n      <td>157.375000</td>\n      <td>172.375000</td>\n      <td>model3</td>\n      <td>18</td>\n      <td>comp4</td>\n    </tr>\n    <tr>\n      <th>82</th>\n      <td>2015-01-04 16:00:00</td>\n      <td>1</td>\n      <td>184.640476</td>\n      <td>365.213804</td>\n      <td>87.474009</td>\n      <td>52.048152</td>\n      <td>0.0</td>\n      <td>0.0</td>\n      <td>0.0</td>\n      <td>0.0</td>\n      <td>0.0</td>\n      <td>22.416667</td>\n      <td>217.416667</td>\n      <td>157.416667</td>\n      <td>172.416667</td>\n      <td>model3</td>\n      <td>18</td>\n      <td>comp4</td>\n    </tr>\n    <tr>\n      <th>83</th>\n      <td>2015-01-04 17:00:00</td>\n      <td>1</td>\n      <td>176.208034</td>\n      <td>517.348533</td>\n      <td>82.400818</td>\n      <td>46.950492</td>\n      <td>0.0</td>\n      <td>0.0</td>\n      <td>0.0</td>\n      <td>0.0</td>\n      <td>0.0</td>\n      <td>22.458333</td>\n      <td>217.458333</td>\n      <td>157.458333</td>\n      <td>172.458333</td>\n      <td>model3</td>\n      <td>18</td>\n      <td>comp4</td>\n    </tr>\n    <tr>\n      <th>84</th>\n      <td>2015-01-04 18:00:00</td>\n      <td>1</td>\n      <td>183.684832</td>\n      <td>414.481164</td>\n      <td>111.684659</td>\n      <td>56.837165</td>\n      <td>0.0</td>\n      <td>0.0</td>\n      <td>0.0</td>\n      <td>0.0</td>\n      <td>0.0</td>\n      <td>22.500000</td>\n      <td>217.500000</td>\n      <td>157.500000</td>\n      <td>172.500000</td>\n      <td>model3</td>\n      <td>18</td>\n      <td>comp4</td>\n    </tr>\n    <tr>\n      <th>85</th>\n      <td>2015-01-04 19:00:00</td>\n      <td>1</td>\n      <td>199.755983</td>\n      <td>425.832560</td>\n      <td>107.335080</td>\n      <td>41.674887</td>\n      <td>0.0</td>\n      <td>0.0</td>\n      <td>0.0</td>\n      <td>0.0</td>\n      <td>0.0</td>\n      <td>22.541667</td>\n      <td>217.541667</td>\n      <td>157.541667</td>\n      <td>172.541667</td>\n      <td>model3</td>\n      <td>18</td>\n      <td>comp4</td>\n    </tr>\n    <tr>\n      <th>86</th>\n      <td>2015-01-04 20:00:00</td>\n      <td>1</td>\n      <td>187.536628</td>\n      <td>427.763970</td>\n      <td>103.159963</td>\n      <td>50.146515</td>\n      <td>0.0</td>\n      <td>0.0</td>\n      <td>0.0</td>\n      <td>0.0</td>\n      <td>0.0</td>\n      <td>22.583333</td>\n      <td>217.583333</td>\n      <td>157.583333</td>\n      <td>172.583333</td>\n      <td>model3</td>\n      <td>18</td>\n      <td>comp4</td>\n    </tr>\n    <tr>\n      <th>87</th>\n      <td>2015-01-04 21:00:00</td>\n      <td>1</td>\n      <td>162.368945</td>\n      <td>458.491868</td>\n      <td>95.748683</td>\n      <td>50.240045</td>\n      <td>0.0</td>\n      <td>0.0</td>\n      <td>0.0</td>\n      <td>0.0</td>\n      <td>0.0</td>\n      <td>22.625000</td>\n      <td>217.625000</td>\n      <td>157.625000</td>\n      <td>172.625000</td>\n      <td>model3</td>\n      <td>18</td>\n      <td>comp4</td>\n    </tr>\n    <tr>\n      <th>88</th>\n      <td>2015-01-04 22:00:00</td>\n      <td>1</td>\n      <td>180.562703</td>\n      <td>447.101400</td>\n      <td>89.260131</td>\n      <td>51.941914</td>\n      <td>0.0</td>\n      <td>0.0</td>\n      <td>0.0</td>\n      <td>0.0</td>\n      <td>0.0</td>\n      <td>22.666667</td>\n      <td>217.666667</td>\n      <td>157.666667</td>\n      <td>172.666667</td>\n      <td>model3</td>\n      <td>18</td>\n      <td>comp4</td>\n    </tr>\n    <tr>\n      <th>89</th>\n      <td>2015-01-04 23:00:00</td>\n      <td>1</td>\n      <td>167.023756</td>\n      <td>471.194987</td>\n      <td>89.474271</td>\n      <td>62.464103</td>\n      <td>0.0</td>\n      <td>0.0</td>\n      <td>0.0</td>\n      <td>0.0</td>\n      <td>0.0</td>\n      <td>22.708333</td>\n      <td>217.708333</td>\n      <td>157.708333</td>\n      <td>172.708333</td>\n      <td>model3</td>\n      <td>18</td>\n      <td>comp4</td>\n    </tr>\n    <tr>\n      <th>90</th>\n      <td>2015-01-05 00:00:00</td>\n      <td>1</td>\n      <td>161.928938</td>\n      <td>376.719605</td>\n      <td>89.969588</td>\n      <td>58.087488</td>\n      <td>0.0</td>\n      <td>0.0</td>\n      <td>0.0</td>\n      <td>0.0</td>\n      <td>0.0</td>\n      <td>22.750000</td>\n      <td>217.750000</td>\n      <td>157.750000</td>\n      <td>172.750000</td>\n      <td>model3</td>\n      <td>18</td>\n      <td>comp4</td>\n    </tr>\n    <tr>\n      <th>91</th>\n      <td>2015-01-05 01:00:00</td>\n      <td>1</td>\n      <td>127.163620</td>\n      <td>430.475185</td>\n      <td>95.667178</td>\n      <td>46.845600</td>\n      <td>0.0</td>\n      <td>0.0</td>\n      <td>0.0</td>\n      <td>0.0</td>\n      <td>0.0</td>\n      <td>22.791667</td>\n      <td>217.791667</td>\n      <td>157.791667</td>\n      <td>172.791667</td>\n      <td>model3</td>\n      <td>18</td>\n      <td>comp4</td>\n    </tr>\n    <tr>\n      <th>92</th>\n      <td>2015-01-05 02:00:00</td>\n      <td>1</td>\n      <td>158.155297</td>\n      <td>429.346217</td>\n      <td>94.892589</td>\n      <td>58.225151</td>\n      <td>0.0</td>\n      <td>0.0</td>\n      <td>0.0</td>\n      <td>0.0</td>\n      <td>0.0</td>\n      <td>22.833333</td>\n      <td>217.833333</td>\n      <td>157.833333</td>\n      <td>172.833333</td>\n      <td>model3</td>\n      <td>18</td>\n      <td>comp4</td>\n    </tr>\n    <tr>\n      <th>93</th>\n      <td>2015-01-05 03:00:00</td>\n      <td>1</td>\n      <td>177.317220</td>\n      <td>461.801246</td>\n      <td>103.056344</td>\n      <td>49.894647</td>\n      <td>0.0</td>\n      <td>0.0</td>\n      <td>0.0</td>\n      <td>0.0</td>\n      <td>0.0</td>\n      <td>22.875000</td>\n      <td>217.875000</td>\n      <td>157.875000</td>\n      <td>172.875000</td>\n      <td>model3</td>\n      <td>18</td>\n      <td>comp4</td>\n    </tr>\n    <tr>\n      <th>94</th>\n      <td>2015-01-05 04:00:00</td>\n      <td>1</td>\n      <td>202.520488</td>\n      <td>387.005318</td>\n      <td>94.686208</td>\n      <td>45.202347</td>\n      <td>0.0</td>\n      <td>0.0</td>\n      <td>0.0</td>\n      <td>0.0</td>\n      <td>0.0</td>\n      <td>22.916667</td>\n      <td>217.916667</td>\n      <td>157.916667</td>\n      <td>172.916667</td>\n      <td>model3</td>\n      <td>18</td>\n      <td>comp4</td>\n    </tr>\n    <tr>\n      <th>95</th>\n      <td>2015-01-05 05:00:00</td>\n      <td>1</td>\n      <td>177.510419</td>\n      <td>469.787301</td>\n      <td>100.498426</td>\n      <td>59.577251</td>\n      <td>0.0</td>\n      <td>0.0</td>\n      <td>0.0</td>\n      <td>0.0</td>\n      <td>0.0</td>\n      <td>22.958333</td>\n      <td>217.958333</td>\n      <td>157.958333</td>\n      <td>172.958333</td>\n      <td>model3</td>\n      <td>18</td>\n      <td>comp4</td>\n    </tr>\n    <tr>\n      <th>96</th>\n      <td>2015-01-05 06:00:00</td>\n      <td>1</td>\n      <td>179.303153</td>\n      <td>499.777962</td>\n      <td>111.833028</td>\n      <td>52.383097</td>\n      <td>0.0</td>\n      <td>0.0</td>\n      <td>0.0</td>\n      <td>0.0</td>\n      <td>0.0</td>\n      <td>0.000000</td>\n      <td>218.000000</td>\n      <td>158.000000</td>\n      <td>0.000000</td>\n      <td>model3</td>\n      <td>18</td>\n      <td>comp4</td>\n    </tr>\n    <tr>\n      <th>97</th>\n      <td>2015-01-05 07:00:00</td>\n      <td>1</td>\n      <td>155.511452</td>\n      <td>498.398435</td>\n      <td>103.068134</td>\n      <td>33.270415</td>\n      <td>0.0</td>\n      <td>0.0</td>\n      <td>0.0</td>\n      <td>0.0</td>\n      <td>0.0</td>\n      <td>0.041667</td>\n      <td>218.041667</td>\n      <td>158.041667</td>\n      <td>0.041667</td>\n      <td>model3</td>\n      <td>18</td>\n      <td>none</td>\n    </tr>\n    <tr>\n      <th>98</th>\n      <td>2015-01-05 08:00:00</td>\n      <td>1</td>\n      <td>172.439821</td>\n      <td>392.124959</td>\n      <td>108.135159</td>\n      <td>39.477497</td>\n      <td>0.0</td>\n      <td>0.0</td>\n      <td>0.0</td>\n      <td>0.0</td>\n      <td>0.0</td>\n      <td>0.083333</td>\n      <td>218.083333</td>\n      <td>158.083333</td>\n      <td>0.083333</td>\n      <td>model3</td>\n      <td>18</td>\n      <td>none</td>\n    </tr>\n    <tr>\n      <th>99</th>\n      <td>2015-01-05 09:00:00</td>\n      <td>1</td>\n      <td>138.826437</td>\n      <td>451.348967</td>\n      <td>126.464580</td>\n      <td>38.257462</td>\n      <td>0.0</td>\n      <td>0.0</td>\n      <td>0.0</td>\n      <td>0.0</td>\n      <td>0.0</td>\n      <td>0.125000</td>\n      <td>218.125000</td>\n      <td>158.125000</td>\n      <td>0.125000</td>\n      <td>model3</td>\n      <td>18</td>\n      <td>none</td>\n    </tr>\n  </tbody>\n</table>\n</div>"
     },
     "metadata": {},
     "execution_count": 9
    }
   ],
   "source": [
    "labeled_features[73:100]"
   ]
  },
  {
   "source": [
    "sclaer"
   ],
   "cell_type": "markdown",
   "metadata": {}
  },
  {
   "cell_type": "code",
   "execution_count": 10,
   "metadata": {},
   "outputs": [],
   "source": [
    "# pick the feature columns \n",
    "scaler_cols = ['machineID', 'volt', 'rotate', 'pressure', 'vibration',\n",
    "       'error1', 'error2', 'error3', 'error4', 'error5', 'comp1', 'comp2',\n",
    "       'comp3', 'comp4', 'age']"
   ]
  },
  {
   "cell_type": "code",
   "execution_count": 11,
   "metadata": {},
   "outputs": [],
   "source": [
    "scaler_dict = {}\n",
    "for col_ in scaler_cols:\n",
    "    scaler = StandardScaler()\n",
    "    labeled_features[[col_]] = scaler.fit_transform(labeled_features[[col_]])\n",
    "    scaler_dict[col_] = scaler"
   ]
  },
  {
   "cell_type": "code",
   "execution_count": 12,
   "metadata": {},
   "outputs": [
    {
     "output_type": "execute_result",
     "data": {
      "text/plain": [
       "              datetime  machineID      volt    rotate  pressure  vibration  \\\n",
       "73 2015-01-04 07:00:00  -1.714798 -1.812543 -0.252937  1.628559   2.693139   \n",
       "74 2015-01-04 08:00:00  -1.714798  1.314742  0.626713  0.103228   2.327035   \n",
       "75 2015-01-04 09:00:00  -1.714798 -0.860234 -0.161588  1.107932   2.478413   \n",
       "76 2015-01-04 10:00:00  -1.714798 -1.137014 -0.122265 -0.573267   3.170254   \n",
       "77 2015-01-04 11:00:00  -1.714798  2.893621  0.218220 -0.526985   2.097152   \n",
       "78 2015-01-04 12:00:00  -1.714798  0.177137 -0.472227 -0.021861   1.875630   \n",
       "79 2015-01-04 13:00:00  -1.714798 -0.082330  0.149162 -0.831141   1.036425   \n",
       "80 2015-01-04 14:00:00  -1.714798 -2.692637  0.623724  0.969835   1.678277   \n",
       "81 2015-01-04 15:00:00  -1.714798 -0.146677  0.169604 -1.553880   0.657785   \n",
       "82 2015-01-04 16:00:00  -1.714798  0.893807 -1.545116 -1.211398   2.171665   \n",
       "83 2015-01-04 17:00:00  -1.714798  0.350110  1.343055 -1.670541   1.222468   \n",
       "84 2015-01-04 18:00:00  -1.714798  0.832190 -0.609810  0.979756   3.063391   \n",
       "85 2015-01-04 19:00:00  -1.714798  1.868407 -0.394312  0.586103   0.240138   \n",
       "86 2015-01-04 20:00:00  -1.714798  1.080542 -0.357645  0.208239   1.817575   \n",
       "87 2015-01-04 21:00:00  -1.714798 -0.542190  0.225702 -0.462509   1.834991   \n",
       "88 2015-01-04 22:00:00  -1.714798  0.630885  0.009462 -1.049748   2.151883   \n",
       "89 2015-01-04 23:00:00  -1.714798 -0.242063  0.466862 -1.030367   4.111140   \n",
       "90 2015-01-05 00:00:00  -1.714798 -0.570561 -1.326687 -0.985539   3.296204   \n",
       "91 2015-01-05 01:00:00  -1.714798 -2.812118 -0.306175 -0.469886   1.202937   \n",
       "92 2015-01-05 02:00:00  -1.714798 -0.813873 -0.327608 -0.539989   3.321837   \n",
       "93 2015-01-05 03:00:00  -1.714798  0.421627  0.288528  0.198861   1.770677   \n",
       "94 2015-01-05 04:00:00  -1.714798  2.046654 -1.131420 -0.558667   0.896959   \n",
       "95 2015-01-05 05:00:00  -1.714798  0.434084  0.440138 -0.032640   3.573601   \n",
       "96 2015-01-05 06:00:00  -1.714798  0.549674  1.009490  0.993184   2.234032   \n",
       "97 2015-01-05 07:00:00  -1.714798 -0.984340  0.983300  0.199928  -1.324795   \n",
       "98 2015-01-05 08:00:00  -1.714798  0.107148 -1.034227  0.658513  -0.169022   \n",
       "99 2015-01-05 09:00:00  -1.714798 -2.060137  0.090099  2.317394  -0.396195   \n",
       "\n",
       "      error1  error2    error3    error4    error5     comp1     comp2  \\\n",
       "73 -0.033989 -0.0336 -0.030942 -0.028818 -0.020162 -0.503789  2.792392   \n",
       "74 -0.033989 -0.0336 -0.030942 -0.028818 -0.020162 -0.503122  2.793095   \n",
       "75 -0.033989 -0.0336 -0.030942 -0.028818 -0.020162 -0.502455  2.793798   \n",
       "76 -0.033989 -0.0336 -0.030942 -0.028818 -0.020162 -0.501789  2.794501   \n",
       "77 -0.033989 -0.0336 -0.030942 -0.028818 -0.020162 -0.501122  2.795204   \n",
       "78 -0.033989 -0.0336 -0.030942 -0.028818 -0.020162 -0.500455  2.795907   \n",
       "79 -0.033989 -0.0336 -0.030942 -0.028818 -0.020162 -0.499788  2.796610   \n",
       "80 -0.033989 -0.0336 -0.030942 -0.028818 -0.020162 -0.499122  2.797313   \n",
       "81 -0.033989 -0.0336 -0.030942 -0.028818 -0.020162 -0.498455  2.798016   \n",
       "82 -0.033989 -0.0336 -0.030942 -0.028818 -0.020162 -0.497788  2.798719   \n",
       "83 -0.033989 -0.0336 -0.030942 -0.028818 -0.020162 -0.497121  2.799422   \n",
       "84 -0.033989 -0.0336 -0.030942 -0.028818 -0.020162 -0.496455  2.800125   \n",
       "85 -0.033989 -0.0336 -0.030942 -0.028818 -0.020162 -0.495788  2.800828   \n",
       "86 -0.033989 -0.0336 -0.030942 -0.028818 -0.020162 -0.495121  2.801531   \n",
       "87 -0.033989 -0.0336 -0.030942 -0.028818 -0.020162 -0.494454  2.802234   \n",
       "88 -0.033989 -0.0336 -0.030942 -0.028818 -0.020162 -0.493788  2.802937   \n",
       "89 -0.033989 -0.0336 -0.030942 -0.028818 -0.020162 -0.493121  2.803640   \n",
       "90 -0.033989 -0.0336 -0.030942 -0.028818 -0.020162 -0.492454  2.804343   \n",
       "91 -0.033989 -0.0336 -0.030942 -0.028818 -0.020162 -0.491788  2.805046   \n",
       "92 -0.033989 -0.0336 -0.030942 -0.028818 -0.020162 -0.491121  2.805749   \n",
       "93 -0.033989 -0.0336 -0.030942 -0.028818 -0.020162 -0.490454  2.806452   \n",
       "94 -0.033989 -0.0336 -0.030942 -0.028818 -0.020162 -0.489787  2.807155   \n",
       "95 -0.033989 -0.0336 -0.030942 -0.028818 -0.020162 -0.489121  2.807858   \n",
       "96 -0.033989 -0.0336 -0.030942 -0.028818 -0.020162 -0.856495  2.808561   \n",
       "97 -0.033989 -0.0336 -0.030942 -0.028818 -0.020162 -0.855828  2.809264   \n",
       "98 -0.033989 -0.0336 -0.030942 -0.028818 -0.020162 -0.855161  2.809967   \n",
       "99 -0.033989 -0.0336 -0.030942 -0.028818 -0.020162 -0.854495  2.810670   \n",
       "\n",
       "       comp3     comp4   model       age failure  \n",
       "73  1.771895  1.979790  model3  1.144539   comp4  \n",
       "74  1.772602  1.980488  model3  1.144539   comp4  \n",
       "75  1.773310  1.981186  model3  1.144539   comp4  \n",
       "76  1.774018  1.981883  model3  1.144539   comp4  \n",
       "77  1.774726  1.982581  model3  1.144539   comp4  \n",
       "78  1.775433  1.983279  model3  1.144539   comp4  \n",
       "79  1.776141  1.983977  model3  1.144539   comp4  \n",
       "80  1.776849  1.984675  model3  1.144539   comp4  \n",
       "81  1.777557  1.985373  model3  1.144539   comp4  \n",
       "82  1.778264  1.986071  model3  1.144539   comp4  \n",
       "83  1.778972  1.986768  model3  1.144539   comp4  \n",
       "84  1.779680  1.987466  model3  1.144539   comp4  \n",
       "85  1.780388  1.988164  model3  1.144539   comp4  \n",
       "86  1.781095  1.988862  model3  1.144539   comp4  \n",
       "87  1.781803  1.989560  model3  1.144539   comp4  \n",
       "88  1.782511  1.990258  model3  1.144539   comp4  \n",
       "89  1.783218  1.990955  model3  1.144539   comp4  \n",
       "90  1.783926  1.991653  model3  1.144539   comp4  \n",
       "91  1.784634  1.992351  model3  1.144539   comp4  \n",
       "92  1.785342  1.993049  model3  1.144539   comp4  \n",
       "93  1.786049  1.993747  model3  1.144539   comp4  \n",
       "94  1.786757  1.994445  model3  1.144539   comp4  \n",
       "95  1.787465  1.995143  model3  1.144539   comp4  \n",
       "96  1.788173 -0.901604  model3  1.144539   comp4  \n",
       "97  1.788880 -0.900906  model3  1.144539    none  \n",
       "98  1.789588 -0.900208  model3  1.144539    none  \n",
       "99  1.790296 -0.899510  model3  1.144539    none  "
      ],
      "text/html": "<div>\n<style scoped>\n    .dataframe tbody tr th:only-of-type {\n        vertical-align: middle;\n    }\n\n    .dataframe tbody tr th {\n        vertical-align: top;\n    }\n\n    .dataframe thead th {\n        text-align: right;\n    }\n</style>\n<table border=\"1\" class=\"dataframe\">\n  <thead>\n    <tr style=\"text-align: right;\">\n      <th></th>\n      <th>datetime</th>\n      <th>machineID</th>\n      <th>volt</th>\n      <th>rotate</th>\n      <th>pressure</th>\n      <th>vibration</th>\n      <th>error1</th>\n      <th>error2</th>\n      <th>error3</th>\n      <th>error4</th>\n      <th>error5</th>\n      <th>comp1</th>\n      <th>comp2</th>\n      <th>comp3</th>\n      <th>comp4</th>\n      <th>model</th>\n      <th>age</th>\n      <th>failure</th>\n    </tr>\n  </thead>\n  <tbody>\n    <tr>\n      <th>73</th>\n      <td>2015-01-04 07:00:00</td>\n      <td>-1.714798</td>\n      <td>-1.812543</td>\n      <td>-0.252937</td>\n      <td>1.628559</td>\n      <td>2.693139</td>\n      <td>-0.033989</td>\n      <td>-0.0336</td>\n      <td>-0.030942</td>\n      <td>-0.028818</td>\n      <td>-0.020162</td>\n      <td>-0.503789</td>\n      <td>2.792392</td>\n      <td>1.771895</td>\n      <td>1.979790</td>\n      <td>model3</td>\n      <td>1.144539</td>\n      <td>comp4</td>\n    </tr>\n    <tr>\n      <th>74</th>\n      <td>2015-01-04 08:00:00</td>\n      <td>-1.714798</td>\n      <td>1.314742</td>\n      <td>0.626713</td>\n      <td>0.103228</td>\n      <td>2.327035</td>\n      <td>-0.033989</td>\n      <td>-0.0336</td>\n      <td>-0.030942</td>\n      <td>-0.028818</td>\n      <td>-0.020162</td>\n      <td>-0.503122</td>\n      <td>2.793095</td>\n      <td>1.772602</td>\n      <td>1.980488</td>\n      <td>model3</td>\n      <td>1.144539</td>\n      <td>comp4</td>\n    </tr>\n    <tr>\n      <th>75</th>\n      <td>2015-01-04 09:00:00</td>\n      <td>-1.714798</td>\n      <td>-0.860234</td>\n      <td>-0.161588</td>\n      <td>1.107932</td>\n      <td>2.478413</td>\n      <td>-0.033989</td>\n      <td>-0.0336</td>\n      <td>-0.030942</td>\n      <td>-0.028818</td>\n      <td>-0.020162</td>\n      <td>-0.502455</td>\n      <td>2.793798</td>\n      <td>1.773310</td>\n      <td>1.981186</td>\n      <td>model3</td>\n      <td>1.144539</td>\n      <td>comp4</td>\n    </tr>\n    <tr>\n      <th>76</th>\n      <td>2015-01-04 10:00:00</td>\n      <td>-1.714798</td>\n      <td>-1.137014</td>\n      <td>-0.122265</td>\n      <td>-0.573267</td>\n      <td>3.170254</td>\n      <td>-0.033989</td>\n      <td>-0.0336</td>\n      <td>-0.030942</td>\n      <td>-0.028818</td>\n      <td>-0.020162</td>\n      <td>-0.501789</td>\n      <td>2.794501</td>\n      <td>1.774018</td>\n      <td>1.981883</td>\n      <td>model3</td>\n      <td>1.144539</td>\n      <td>comp4</td>\n    </tr>\n    <tr>\n      <th>77</th>\n      <td>2015-01-04 11:00:00</td>\n      <td>-1.714798</td>\n      <td>2.893621</td>\n      <td>0.218220</td>\n      <td>-0.526985</td>\n      <td>2.097152</td>\n      <td>-0.033989</td>\n      <td>-0.0336</td>\n      <td>-0.030942</td>\n      <td>-0.028818</td>\n      <td>-0.020162</td>\n      <td>-0.501122</td>\n      <td>2.795204</td>\n      <td>1.774726</td>\n      <td>1.982581</td>\n      <td>model3</td>\n      <td>1.144539</td>\n      <td>comp4</td>\n    </tr>\n    <tr>\n      <th>78</th>\n      <td>2015-01-04 12:00:00</td>\n      <td>-1.714798</td>\n      <td>0.177137</td>\n      <td>-0.472227</td>\n      <td>-0.021861</td>\n      <td>1.875630</td>\n      <td>-0.033989</td>\n      <td>-0.0336</td>\n      <td>-0.030942</td>\n      <td>-0.028818</td>\n      <td>-0.020162</td>\n      <td>-0.500455</td>\n      <td>2.795907</td>\n      <td>1.775433</td>\n      <td>1.983279</td>\n      <td>model3</td>\n      <td>1.144539</td>\n      <td>comp4</td>\n    </tr>\n    <tr>\n      <th>79</th>\n      <td>2015-01-04 13:00:00</td>\n      <td>-1.714798</td>\n      <td>-0.082330</td>\n      <td>0.149162</td>\n      <td>-0.831141</td>\n      <td>1.036425</td>\n      <td>-0.033989</td>\n      <td>-0.0336</td>\n      <td>-0.030942</td>\n      <td>-0.028818</td>\n      <td>-0.020162</td>\n      <td>-0.499788</td>\n      <td>2.796610</td>\n      <td>1.776141</td>\n      <td>1.983977</td>\n      <td>model3</td>\n      <td>1.144539</td>\n      <td>comp4</td>\n    </tr>\n    <tr>\n      <th>80</th>\n      <td>2015-01-04 14:00:00</td>\n      <td>-1.714798</td>\n      <td>-2.692637</td>\n      <td>0.623724</td>\n      <td>0.969835</td>\n      <td>1.678277</td>\n      <td>-0.033989</td>\n      <td>-0.0336</td>\n      <td>-0.030942</td>\n      <td>-0.028818</td>\n      <td>-0.020162</td>\n      <td>-0.499122</td>\n      <td>2.797313</td>\n      <td>1.776849</td>\n      <td>1.984675</td>\n      <td>model3</td>\n      <td>1.144539</td>\n      <td>comp4</td>\n    </tr>\n    <tr>\n      <th>81</th>\n      <td>2015-01-04 15:00:00</td>\n      <td>-1.714798</td>\n      <td>-0.146677</td>\n      <td>0.169604</td>\n      <td>-1.553880</td>\n      <td>0.657785</td>\n      <td>-0.033989</td>\n      <td>-0.0336</td>\n      <td>-0.030942</td>\n      <td>-0.028818</td>\n      <td>-0.020162</td>\n      <td>-0.498455</td>\n      <td>2.798016</td>\n      <td>1.777557</td>\n      <td>1.985373</td>\n      <td>model3</td>\n      <td>1.144539</td>\n      <td>comp4</td>\n    </tr>\n    <tr>\n      <th>82</th>\n      <td>2015-01-04 16:00:00</td>\n      <td>-1.714798</td>\n      <td>0.893807</td>\n      <td>-1.545116</td>\n      <td>-1.211398</td>\n      <td>2.171665</td>\n      <td>-0.033989</td>\n      <td>-0.0336</td>\n      <td>-0.030942</td>\n      <td>-0.028818</td>\n      <td>-0.020162</td>\n      <td>-0.497788</td>\n      <td>2.798719</td>\n      <td>1.778264</td>\n      <td>1.986071</td>\n      <td>model3</td>\n      <td>1.144539</td>\n      <td>comp4</td>\n    </tr>\n    <tr>\n      <th>83</th>\n      <td>2015-01-04 17:00:00</td>\n      <td>-1.714798</td>\n      <td>0.350110</td>\n      <td>1.343055</td>\n      <td>-1.670541</td>\n      <td>1.222468</td>\n      <td>-0.033989</td>\n      <td>-0.0336</td>\n      <td>-0.030942</td>\n      <td>-0.028818</td>\n      <td>-0.020162</td>\n      <td>-0.497121</td>\n      <td>2.799422</td>\n      <td>1.778972</td>\n      <td>1.986768</td>\n      <td>model3</td>\n      <td>1.144539</td>\n      <td>comp4</td>\n    </tr>\n    <tr>\n      <th>84</th>\n      <td>2015-01-04 18:00:00</td>\n      <td>-1.714798</td>\n      <td>0.832190</td>\n      <td>-0.609810</td>\n      <td>0.979756</td>\n      <td>3.063391</td>\n      <td>-0.033989</td>\n      <td>-0.0336</td>\n      <td>-0.030942</td>\n      <td>-0.028818</td>\n      <td>-0.020162</td>\n      <td>-0.496455</td>\n      <td>2.800125</td>\n      <td>1.779680</td>\n      <td>1.987466</td>\n      <td>model3</td>\n      <td>1.144539</td>\n      <td>comp4</td>\n    </tr>\n    <tr>\n      <th>85</th>\n      <td>2015-01-04 19:00:00</td>\n      <td>-1.714798</td>\n      <td>1.868407</td>\n      <td>-0.394312</td>\n      <td>0.586103</td>\n      <td>0.240138</td>\n      <td>-0.033989</td>\n      <td>-0.0336</td>\n      <td>-0.030942</td>\n      <td>-0.028818</td>\n      <td>-0.020162</td>\n      <td>-0.495788</td>\n      <td>2.800828</td>\n      <td>1.780388</td>\n      <td>1.988164</td>\n      <td>model3</td>\n      <td>1.144539</td>\n      <td>comp4</td>\n    </tr>\n    <tr>\n      <th>86</th>\n      <td>2015-01-04 20:00:00</td>\n      <td>-1.714798</td>\n      <td>1.080542</td>\n      <td>-0.357645</td>\n      <td>0.208239</td>\n      <td>1.817575</td>\n      <td>-0.033989</td>\n      <td>-0.0336</td>\n      <td>-0.030942</td>\n      <td>-0.028818</td>\n      <td>-0.020162</td>\n      <td>-0.495121</td>\n      <td>2.801531</td>\n      <td>1.781095</td>\n      <td>1.988862</td>\n      <td>model3</td>\n      <td>1.144539</td>\n      <td>comp4</td>\n    </tr>\n    <tr>\n      <th>87</th>\n      <td>2015-01-04 21:00:00</td>\n      <td>-1.714798</td>\n      <td>-0.542190</td>\n      <td>0.225702</td>\n      <td>-0.462509</td>\n      <td>1.834991</td>\n      <td>-0.033989</td>\n      <td>-0.0336</td>\n      <td>-0.030942</td>\n      <td>-0.028818</td>\n      <td>-0.020162</td>\n      <td>-0.494454</td>\n      <td>2.802234</td>\n      <td>1.781803</td>\n      <td>1.989560</td>\n      <td>model3</td>\n      <td>1.144539</td>\n      <td>comp4</td>\n    </tr>\n    <tr>\n      <th>88</th>\n      <td>2015-01-04 22:00:00</td>\n      <td>-1.714798</td>\n      <td>0.630885</td>\n      <td>0.009462</td>\n      <td>-1.049748</td>\n      <td>2.151883</td>\n      <td>-0.033989</td>\n      <td>-0.0336</td>\n      <td>-0.030942</td>\n      <td>-0.028818</td>\n      <td>-0.020162</td>\n      <td>-0.493788</td>\n      <td>2.802937</td>\n      <td>1.782511</td>\n      <td>1.990258</td>\n      <td>model3</td>\n      <td>1.144539</td>\n      <td>comp4</td>\n    </tr>\n    <tr>\n      <th>89</th>\n      <td>2015-01-04 23:00:00</td>\n      <td>-1.714798</td>\n      <td>-0.242063</td>\n      <td>0.466862</td>\n      <td>-1.030367</td>\n      <td>4.111140</td>\n      <td>-0.033989</td>\n      <td>-0.0336</td>\n      <td>-0.030942</td>\n      <td>-0.028818</td>\n      <td>-0.020162</td>\n      <td>-0.493121</td>\n      <td>2.803640</td>\n      <td>1.783218</td>\n      <td>1.990955</td>\n      <td>model3</td>\n      <td>1.144539</td>\n      <td>comp4</td>\n    </tr>\n    <tr>\n      <th>90</th>\n      <td>2015-01-05 00:00:00</td>\n      <td>-1.714798</td>\n      <td>-0.570561</td>\n      <td>-1.326687</td>\n      <td>-0.985539</td>\n      <td>3.296204</td>\n      <td>-0.033989</td>\n      <td>-0.0336</td>\n      <td>-0.030942</td>\n      <td>-0.028818</td>\n      <td>-0.020162</td>\n      <td>-0.492454</td>\n      <td>2.804343</td>\n      <td>1.783926</td>\n      <td>1.991653</td>\n      <td>model3</td>\n      <td>1.144539</td>\n      <td>comp4</td>\n    </tr>\n    <tr>\n      <th>91</th>\n      <td>2015-01-05 01:00:00</td>\n      <td>-1.714798</td>\n      <td>-2.812118</td>\n      <td>-0.306175</td>\n      <td>-0.469886</td>\n      <td>1.202937</td>\n      <td>-0.033989</td>\n      <td>-0.0336</td>\n      <td>-0.030942</td>\n      <td>-0.028818</td>\n      <td>-0.020162</td>\n      <td>-0.491788</td>\n      <td>2.805046</td>\n      <td>1.784634</td>\n      <td>1.992351</td>\n      <td>model3</td>\n      <td>1.144539</td>\n      <td>comp4</td>\n    </tr>\n    <tr>\n      <th>92</th>\n      <td>2015-01-05 02:00:00</td>\n      <td>-1.714798</td>\n      <td>-0.813873</td>\n      <td>-0.327608</td>\n      <td>-0.539989</td>\n      <td>3.321837</td>\n      <td>-0.033989</td>\n      <td>-0.0336</td>\n      <td>-0.030942</td>\n      <td>-0.028818</td>\n      <td>-0.020162</td>\n      <td>-0.491121</td>\n      <td>2.805749</td>\n      <td>1.785342</td>\n      <td>1.993049</td>\n      <td>model3</td>\n      <td>1.144539</td>\n      <td>comp4</td>\n    </tr>\n    <tr>\n      <th>93</th>\n      <td>2015-01-05 03:00:00</td>\n      <td>-1.714798</td>\n      <td>0.421627</td>\n      <td>0.288528</td>\n      <td>0.198861</td>\n      <td>1.770677</td>\n      <td>-0.033989</td>\n      <td>-0.0336</td>\n      <td>-0.030942</td>\n      <td>-0.028818</td>\n      <td>-0.020162</td>\n      <td>-0.490454</td>\n      <td>2.806452</td>\n      <td>1.786049</td>\n      <td>1.993747</td>\n      <td>model3</td>\n      <td>1.144539</td>\n      <td>comp4</td>\n    </tr>\n    <tr>\n      <th>94</th>\n      <td>2015-01-05 04:00:00</td>\n      <td>-1.714798</td>\n      <td>2.046654</td>\n      <td>-1.131420</td>\n      <td>-0.558667</td>\n      <td>0.896959</td>\n      <td>-0.033989</td>\n      <td>-0.0336</td>\n      <td>-0.030942</td>\n      <td>-0.028818</td>\n      <td>-0.020162</td>\n      <td>-0.489787</td>\n      <td>2.807155</td>\n      <td>1.786757</td>\n      <td>1.994445</td>\n      <td>model3</td>\n      <td>1.144539</td>\n      <td>comp4</td>\n    </tr>\n    <tr>\n      <th>95</th>\n      <td>2015-01-05 05:00:00</td>\n      <td>-1.714798</td>\n      <td>0.434084</td>\n      <td>0.440138</td>\n      <td>-0.032640</td>\n      <td>3.573601</td>\n      <td>-0.033989</td>\n      <td>-0.0336</td>\n      <td>-0.030942</td>\n      <td>-0.028818</td>\n      <td>-0.020162</td>\n      <td>-0.489121</td>\n      <td>2.807858</td>\n      <td>1.787465</td>\n      <td>1.995143</td>\n      <td>model3</td>\n      <td>1.144539</td>\n      <td>comp4</td>\n    </tr>\n    <tr>\n      <th>96</th>\n      <td>2015-01-05 06:00:00</td>\n      <td>-1.714798</td>\n      <td>0.549674</td>\n      <td>1.009490</td>\n      <td>0.993184</td>\n      <td>2.234032</td>\n      <td>-0.033989</td>\n      <td>-0.0336</td>\n      <td>-0.030942</td>\n      <td>-0.028818</td>\n      <td>-0.020162</td>\n      <td>-0.856495</td>\n      <td>2.808561</td>\n      <td>1.788173</td>\n      <td>-0.901604</td>\n      <td>model3</td>\n      <td>1.144539</td>\n      <td>comp4</td>\n    </tr>\n    <tr>\n      <th>97</th>\n      <td>2015-01-05 07:00:00</td>\n      <td>-1.714798</td>\n      <td>-0.984340</td>\n      <td>0.983300</td>\n      <td>0.199928</td>\n      <td>-1.324795</td>\n      <td>-0.033989</td>\n      <td>-0.0336</td>\n      <td>-0.030942</td>\n      <td>-0.028818</td>\n      <td>-0.020162</td>\n      <td>-0.855828</td>\n      <td>2.809264</td>\n      <td>1.788880</td>\n      <td>-0.900906</td>\n      <td>model3</td>\n      <td>1.144539</td>\n      <td>none</td>\n    </tr>\n    <tr>\n      <th>98</th>\n      <td>2015-01-05 08:00:00</td>\n      <td>-1.714798</td>\n      <td>0.107148</td>\n      <td>-1.034227</td>\n      <td>0.658513</td>\n      <td>-0.169022</td>\n      <td>-0.033989</td>\n      <td>-0.0336</td>\n      <td>-0.030942</td>\n      <td>-0.028818</td>\n      <td>-0.020162</td>\n      <td>-0.855161</td>\n      <td>2.809967</td>\n      <td>1.789588</td>\n      <td>-0.900208</td>\n      <td>model3</td>\n      <td>1.144539</td>\n      <td>none</td>\n    </tr>\n    <tr>\n      <th>99</th>\n      <td>2015-01-05 09:00:00</td>\n      <td>-1.714798</td>\n      <td>-2.060137</td>\n      <td>0.090099</td>\n      <td>2.317394</td>\n      <td>-0.396195</td>\n      <td>-0.033989</td>\n      <td>-0.0336</td>\n      <td>-0.030942</td>\n      <td>-0.028818</td>\n      <td>-0.020162</td>\n      <td>-0.854495</td>\n      <td>2.810670</td>\n      <td>1.790296</td>\n      <td>-0.899510</td>\n      <td>model3</td>\n      <td>1.144539</td>\n      <td>none</td>\n    </tr>\n  </tbody>\n</table>\n</div>"
     },
     "metadata": {},
     "execution_count": 12
    }
   ],
   "source": [
    "labeled_features[73:100]"
   ]
  },
  {
   "source": [
    "train test split"
   ],
   "cell_type": "markdown",
   "metadata": {}
  },
  {
   "cell_type": "code",
   "execution_count": 13,
   "metadata": {},
   "outputs": [],
   "source": [
    "# make test and training splits\n",
    "last_train_date, first_test_date = [pd.to_datetime('2015-07-31 01:00:00'), pd.to_datetime('2015-08-01 01:00:00')]\n",
    "\n",
    "train_y = pd.get_dummies(labeled_features.loc[labeled_features['datetime'] < last_train_date, ['machineID','failure']])\n",
    "train_X = pd.get_dummies(labeled_features.loc[labeled_features['datetime'] < last_train_date].drop(['failure'], 1))\n",
    "\n",
    "test_y = pd.get_dummies(labeled_features.loc[labeled_features['datetime'] > first_test_date, ['machineID','failure']])\n",
    "test_X = pd.get_dummies(labeled_features.loc[labeled_features['datetime'] > first_test_date].drop(['failure'], 1))"
   ]
  },
  {
   "cell_type": "code",
   "execution_count": 14,
   "metadata": {},
   "outputs": [
    {
     "output_type": "execute_result",
     "data": {
      "text/plain": [
       "Index(['machineID', 'failure_comp1', 'failure_comp2', 'failure_comp3',\n",
       "       'failure_comp4', 'failure_none'],\n",
       "      dtype='object')"
      ]
     },
     "metadata": {},
     "execution_count": 14
    }
   ],
   "source": [
    "train_y.columns"
   ]
  },
  {
   "source": [
    "Train"
   ],
   "cell_type": "markdown",
   "metadata": {}
  },
  {
   "cell_type": "code",
   "execution_count": 15,
   "metadata": {},
   "outputs": [],
   "source": [
    "sequence_length = 50"
   ]
  },
  {
   "cell_type": "code",
   "execution_count": 16,
   "metadata": {},
   "outputs": [],
   "source": [
    "# function to reshape features into (samples, time steps, features) \n",
    "def gen_sequence(id_df, seq_length, seq_cols):\n",
    "    \"\"\" Only sequences that meet the window-length are considered, no padding is used. This means for testing\n",
    "    we need to drop those which are below the window-length. An alternative would be to pad sequences so that\n",
    "    we can use shorter ones \"\"\"\n",
    "    data_array = id_df[seq_cols].values\n",
    "    num_elements = data_array.shape[0]\n",
    "    for start, stop in zip(range(0, num_elements-seq_length), range(seq_length, num_elements)):\n",
    "        yield data_array[start:stop, :]"
   ]
  },
  {
   "cell_type": "code",
   "execution_count": 17,
   "metadata": {},
   "outputs": [],
   "source": [
    "# pick the feature columns \n",
    "sequence_cols = ['machineID', 'volt', 'rotate', 'pressure', 'vibration',\n",
    "       'error1', 'error2', 'error3', 'error4', 'error5', 'comp1', 'comp2',\n",
    "       'comp3', 'comp4', 'age', 'model_model1', 'model_model2', 'model_model3',\n",
    "       'model_model4']"
   ]
  },
  {
   "cell_type": "code",
   "execution_count": 18,
   "metadata": {},
   "outputs": [],
   "source": [
    "# generator for the sequences\n",
    "seq_gen = (list(gen_sequence(train_X[train_X['machineID']==id], sequence_length, sequence_cols)) \n",
    "           for id in train_X['machineID'].unique())"
   ]
  },
  {
   "cell_type": "code",
   "execution_count": 19,
   "metadata": {},
   "outputs": [
    {
     "output_type": "execute_result",
     "data": {
      "text/plain": [
       "(500923, 50, 19)"
      ]
     },
     "metadata": {},
     "execution_count": 19
    }
   ],
   "source": [
    "# generate sequences and convert to numpy array\n",
    "seq_array = np.concatenate(list(seq_gen)).astype(np.float32)\n",
    "seq_array.shape"
   ]
  },
  {
   "cell_type": "code",
   "execution_count": 20,
   "metadata": {},
   "outputs": [],
   "source": [
    "# function to generate labels\n",
    "def gen_labels(id_df, seq_length, label):\n",
    "    data_array = id_df[label].values\n",
    "    num_elements = data_array.shape[0]\n",
    "    return data_array[seq_length:num_elements, :]"
   ]
  },
  {
   "cell_type": "code",
   "execution_count": 21,
   "metadata": {},
   "outputs": [
    {
     "output_type": "execute_result",
     "data": {
      "text/plain": [
       "(500923, 5)"
      ]
     },
     "metadata": {},
     "execution_count": 21
    }
   ],
   "source": [
    "# generate labels\n",
    "label_gen = [gen_labels(train_y[train_y['machineID']==id], sequence_length, ['failure_comp1', 'failure_comp2', \n",
    "                                                                            'failure_comp3','failure_comp4', 'failure_none']) \n",
    "             for id in train_y['machineID'].unique()]\n",
    "label_array = np.concatenate(label_gen).astype(np.float32)\n",
    "label_array.shape"
   ]
  },
  {
   "cell_type": "code",
   "execution_count": 22,
   "metadata": {},
   "outputs": [],
   "source": [
    "# build the network\n",
    "nb_features = seq_array.shape[2]\n",
    "nb_out = label_array.shape[1]\n",
    "\n",
    "model = Sequential()\n",
    "\n",
    "model.add(LSTM(\n",
    "         input_shape=(sequence_length, nb_features),\n",
    "         units=100,\n",
    "         return_sequences=True))\n",
    "model.add(Dropout(0.2))\n",
    "\n",
    "model.add(LSTM(\n",
    "          units=50,\n",
    "          return_sequences=False))\n",
    "model.add(Dropout(0.2))\n",
    "\n",
    "model.add(Dense(units=nb_out, activation='sigmoid'))\n",
    "model.compile(loss='categorical_crossentropy', optimizer='adam', metrics=['accuracy'])"
   ]
  },
  {
   "cell_type": "code",
   "execution_count": 23,
   "metadata": {},
   "outputs": [
    {
     "output_type": "stream",
     "name": "stdout",
     "text": [
      "Model: \"sequential\"\n_________________________________________________________________\nLayer (type)                 Output Shape              Param #   \n=================================================================\nlstm (LSTM)                  (None, 50, 100)           48000     \n_________________________________________________________________\ndropout (Dropout)            (None, 50, 100)           0         \n_________________________________________________________________\nlstm_1 (LSTM)                (None, 50)                30200     \n_________________________________________________________________\ndropout_1 (Dropout)          (None, 50)                0         \n_________________________________________________________________\ndense (Dense)                (None, 5)                 255       \n=================================================================\nTotal params: 78,455\nTrainable params: 78,455\nNon-trainable params: 0\n_________________________________________________________________\nNone\n"
     ]
    }
   ],
   "source": [
    "print(model.summary())"
   ]
  },
  {
   "cell_type": "code",
   "execution_count": 24,
   "metadata": {},
   "outputs": [
    {
     "output_type": "stream",
     "name": "stdout",
     "text": [
      "Epoch 1/10\n",
      "2380/2380 [==============================] - 46s 16ms/step - loss: 0.0190 - accuracy: 0.9951 - val_loss: 0.0101 - val_accuracy: 0.9959\n",
      "Wall time: 46.6 s\n"
     ]
    },
    {
     "output_type": "execute_result",
     "data": {
      "text/plain": [
       "<tensorflow.python.keras.callbacks.History at 0x23987e62df0>"
      ]
     },
     "metadata": {},
     "execution_count": 24
    }
   ],
   "source": [
    "%%time\n",
    "# fit the network\n",
    "model.fit(seq_array, label_array, epochs=10, batch_size=200, validation_split=0.05, verbose=1,\n",
    "          callbacks = [keras.callbacks.EarlyStopping(monitor='val_loss', min_delta=0, patience=0, verbose=0, mode='auto')])"
   ]
  },
  {
   "cell_type": "code",
   "execution_count": 25,
   "metadata": {},
   "outputs": [
    {
     "output_type": "stream",
     "name": "stdout",
     "text": [
      "2505/2505 [==============================] - 21s 8ms/step - loss: 0.0051 - accuracy: 0.9981\n",
      "Accurracy: 0.9980515837669373\n"
     ]
    }
   ],
   "source": [
    "# training metrics\n",
    "scores = model.evaluate(seq_array, label_array, verbose=1, batch_size=200)\n",
    "print('Accurracy: {}'.format(scores[1]))"
   ]
  },
  {
   "cell_type": "code",
   "execution_count": 26,
   "metadata": {},
   "outputs": [
    {
     "output_type": "stream",
     "name": "stderr",
     "text": [
      "C:\\Users\\USER\\AppData\\Roaming\\Python\\Python38\\site-packages\\tensorflow\\python\\keras\\engine\\sequential.py:455: UserWarning: `model.predict_classes()` is deprecated and will be removed after 2021-01-01. Please use instead:* `np.argmax(model.predict(x), axis=-1)`,   if your model does multi-class classification   (e.g. if it uses a `softmax` last-layer activation).* `(model.predict(x) > 0.5).astype(\"int32\")`,   if your model does binary classification   (e.g. if it uses a `sigmoid` last-layer activation).\n",
      "  warnings.warn('`model.predict_classes()` is deprecated and '\n",
      "2505/2505 [==============================] - 16s 6ms/step\n",
      "Confusion matrix\n",
      "- x-axis is true labels.\n",
      "- y-axis is predicted labels\n"
     ]
    },
    {
     "output_type": "execute_result",
     "data": {
      "text/plain": [
       "array([[  2496,      0,      0,     20,    244],\n",
       "       [     0,   3227,      0,      1,     89],\n",
       "       [     0,      0,   1711,      0,     19],\n",
       "       [     1,      1,      3,   2146,     15],\n",
       "       [   157,     19,    233,    174, 490367]], dtype=int64)"
      ]
     },
     "metadata": {},
     "execution_count": 26
    }
   ],
   "source": [
    "# make predictions and compute confusion matrix\n",
    "y_pred = model.predict_classes(seq_array,verbose=1, batch_size=200)\n",
    "y_true = np.argmax(label_array, axis=1)\n",
    "print('Confusion matrix\\n- x-axis is true labels.\\n- y-axis is predicted labels')\n",
    "cm = confusion_matrix(y_true, y_pred)\n",
    "cm"
   ]
  },
  {
   "source": [
    "데이터 불균형으로 인한 에러"
   ],
   "cell_type": "markdown",
   "metadata": {}
  }
 ]
}