{
  "nbformat": 4,
  "nbformat_minor": 0,
  "metadata": {
    "orig_nbformat": 4,
    "colab": {
      "name": "2.ML.ipynb",
      "provenance": [],
      "collapsed_sections": []
    },
    "language_info": {
      "name": "python"
    },
    "kernelspec": {
      "name": "python3",
      "display_name": "Python 3"
    }
  },
  "cells": [
    {
      "cell_type": "markdown",
      "metadata": {
        "id": "3KMyoJUXIGFn"
      },
      "source": [
        "orginal repo : https://github.com/ashishpatel26/Predictive_Maintenance_using_Machine-Learning_Microsoft_Casestudy"
      ]
    },
    {
      "cell_type": "code",
      "metadata": {
        "id": "G1MkOHd1HgHO"
      },
      "source": [
        "import pandas as pd\n",
        "\n",
        "telemetry = pd.read_csv('./data/PdM_telemetry.csv')\n",
        "errors = pd.read_csv('./data/PdM_errors.csv')\n",
        "maint = pd.read_csv('./data/PdM_maint.csv')\n",
        "failures = pd.read_csv('./data/PdM_failures.csv')\n",
        "machines = pd.read_csv('./data/PdM_machines.csv')"
      ],
      "execution_count": 1,
      "outputs": []
    },
    {
      "cell_type": "markdown",
      "metadata": {
        "id": "XZpMRiwFHgHO"
      },
      "source": [
        "Data preprocessing"
      ]
    },
    {
      "cell_type": "code",
      "metadata": {
        "id": "Y9CjFediHgHP"
      },
      "source": [
        "telemetry['datetime'] = pd.to_datetime(telemetry['datetime'], format=\"%Y-%m-%d %H:%M:%S\")\n",
        "\n",
        "errors['datetime'] = pd.to_datetime(errors['datetime'],format = '%Y-%m-%d %H:%M:%S')\n",
        "errors['errorID'] = errors['errorID'].astype('category')\n",
        "\n",
        "maint['datetime'] = pd.to_datetime(maint['datetime'], format='%Y-%m-%d %H:%M:%S')\n",
        "maint['comp'] = maint['comp'].astype('category')\n",
        "\n",
        "machines['model'] = machines['model'].astype('category')\n",
        "\n",
        "failures['datetime'] = pd.to_datetime(failures['datetime'], format=\"%Y-%m-%d %H:%M:%S\")\n",
        "failures['failure'] = failures['failure'].astype('category')"
      ],
      "execution_count": 2,
      "outputs": []
    },
    {
      "cell_type": "markdown",
      "metadata": {
        "id": "bmSZuPFzHgHP"
      },
      "source": [
        "feature engineering"
      ]
    },
    {
      "cell_type": "code",
      "metadata": {
        "id": "h4F-wCg-HgHQ"
      },
      "source": [
        "# Calculate mean values for telemetry features\n",
        "# pivot_table을 이용 row 시간, columns machin_id 로 구성, 그 후 3시간별 평균으로 설정, 다시 원상복구\n",
        "# 즉 3시간 기계별 3시간 평균 데이터 생성\n",
        "temp = []\n",
        "fields = ['volt', 'rotate', 'pressure', 'vibration']\n",
        "for col in fields:\n",
        "    temp.append(pd.pivot_table(telemetry,\n",
        "                               index='datetime',\n",
        "                               columns='machineID',\n",
        "                               values=col).resample('3H', closed='left', label='right').mean().unstack())\n",
        "telemetry_mean_3h = pd.concat(temp, axis=1)\n",
        "telemetry_mean_3h.columns = [i + 'mean_3h' for i in fields]\n",
        "telemetry_mean_3h.reset_index(inplace=True)\n",
        "\n",
        "# repeat for standard deviation\n",
        "# 추가적인 정보를 넣기 위해 3시간 분산 데이터 추가\n",
        "temp = []\n",
        "for col in fields:\n",
        "    temp.append(pd.pivot_table(telemetry,\n",
        "                               index='datetime',\n",
        "                               columns='machineID',\n",
        "                               values=col).resample('3H', closed='left', label='right').std().unstack())\n",
        "telemetry_sd_3h = pd.concat(temp, axis=1)\n",
        "telemetry_sd_3h.columns = [i + 'sd_3h' for i in fields]\n",
        "telemetry_sd_3h.reset_index(inplace=True)"
      ],
      "execution_count": 3,
      "outputs": []
    },
    {
      "cell_type": "code",
      "metadata": {
        "id": "PPq-vZ-dHgHQ"
      },
      "source": [
        "# 위와 동일한 과정을 24단위 평균을 생성\n",
        "# 이를 3시간 단위로 짜름(즉 3시간 마다 24시간 평균을 생성)\n",
        "temp = []\n",
        "fields = ['volt', 'rotate', 'pressure', 'vibration']\n",
        "for col in fields:\n",
        "    temp.append(pd.pivot_table(telemetry,\n",
        "                            index='datetime',\n",
        "                            columns='machineID',\n",
        "                            values=col).rolling(window=24).mean().resample('3H',\n",
        "                                                                    closed='left',\n",
        "                                                                    label='right').first().unstack())\n",
        "telemetry_mean_24h = pd.concat(temp, axis=1)\n",
        "telemetry_mean_24h.columns = [i + 'mean_24h' for i in fields]\n",
        "telemetry_mean_24h.reset_index(inplace=True)\n",
        "telemetry_mean_24h = telemetry_mean_24h.loc[-telemetry_mean_24h['voltmean_24h'].isnull()]\n",
        "\n",
        "# repeat for standard deviation\n",
        "# 전체 데이터를 24단위 분산을 생성 \n",
        "# 이를 3시간 단위로 짜름(즉 3시간 마다 24시간 분산을 생성)\n",
        "temp = []\n",
        "fields = ['volt', 'rotate', 'pressure', 'vibration']\n",
        "for col in fields:\n",
        "    temp.append(pd.pivot_table(telemetry,\n",
        "                                index='datetime',\n",
        "                                columns='machineID',\n",
        "                                values=col).rolling(window=24).std().resample('3H',\n",
        "                                                                            closed='left',\n",
        "                                                                            label='right').first().unstack())\n",
        "telemetry_sd_24h = pd.concat(temp, axis=1)\n",
        "telemetry_sd_24h.columns = [i + 'sd_24h' for i in fields]\n",
        "telemetry_sd_24h = telemetry_sd_24h.loc[-telemetry_sd_24h['voltsd_24h'].isnull()]\n",
        "telemetry_sd_24h.reset_index(inplace=True)"
      ],
      "execution_count": 4,
      "outputs": []
    },
    {
      "cell_type": "code",
      "metadata": {
        "id": "-H1-Ny4GHgHR"
      },
      "source": [
        "# merge columns of feature sets created earlier\n",
        "telemetry_feat = pd.concat([telemetry_mean_3h,\n",
        "                            telemetry_sd_3h.iloc[:, 2:6],\n",
        "                            telemetry_mean_24h.iloc[:, 2:6],\n",
        "                            telemetry_sd_24h.iloc[:, 2:6]], axis=1).dropna()"
      ],
      "execution_count": 5,
      "outputs": []
    },
    {
      "cell_type": "code",
      "metadata": {
        "id": "hOHwcPFkHgHR"
      },
      "source": [
        "# create a column for each error type\n",
        "# error 별 column 생성\n",
        "error_count = pd.get_dummies(errors.set_index('datetime')).reset_index()\n",
        "error_count.columns = ['datetime', 'machineID', 'error1', 'error2', 'error3', 'error4', 'error5']\n",
        "# 같은 시간으로 통합\n",
        "error_count = error_count.groupby(['machineID','datetime']).sum().reset_index()\n",
        "# telemetry 에 통합\n",
        "error_count = telemetry[['datetime', 'machineID']].merge(error_count, on=['machineID', 'datetime'], how='left').fillna(0.0)"
      ],
      "execution_count": 6,
      "outputs": []
    },
    {
      "cell_type": "code",
      "metadata": {
        "id": "6Q2K3dJsHgHS"
      },
      "source": [
        "# 3시간 마다 24시간 에러 수 표시\n",
        "temp = []\n",
        "fields = ['error%d' % i for i in range(1,6)]\n",
        "for col in fields:\n",
        "    temp.append(pd.pivot_table(error_count,\n",
        "                                index='datetime',\n",
        "                                columns='machineID',\n",
        "                                values=col).rolling(window=24).sum().resample('3H',\n",
        "                                                                             closed='left',\n",
        "                                                                             label='right').first().unstack())\n",
        "error_count = pd.concat(temp, axis=1)\n",
        "error_count.columns = [i + 'count' for i in fields]\n",
        "error_count.reset_index(inplace=True)\n",
        "error_count = error_count.dropna()"
      ],
      "execution_count": 7,
      "outputs": []
    },
    {
      "cell_type": "code",
      "metadata": {
        "colab": {
          "base_uri": "https://localhost:8080/"
        },
        "id": "PNYRU-iBHgHS",
        "outputId": "b7b49316-6452-4ca6-8b9a-cbafe2368450"
      },
      "source": [
        "import numpy as np\n",
        "\n",
        "# create a column for each error type\n",
        "# 각 부품별로 생성후 column 명 설정\n",
        "comp_rep = pd.get_dummies(maint.set_index('datetime')).reset_index()\n",
        "comp_rep.columns = ['datetime', 'machineID', 'comp1', 'comp2', 'comp3', 'comp4']\n",
        "\n",
        "# combine repairs for a given machine in a given hour\n",
        "# 기계와 시간별로 교체 부품 정리\n",
        "comp_rep = comp_rep.groupby(['machineID', 'datetime']).sum().reset_index()\n",
        "\n",
        "# add timepoints where no components were replaced\n",
        "# telemetry 데이터에 데이터 결합\n",
        "comp_rep = telemetry[['datetime', 'machineID']].merge(comp_rep,\n",
        "                                                      on=['datetime', 'machineID'],\n",
        "                                                      how='outer').fillna(0).sort_values(by=['machineID', 'datetime'])\n",
        "\n",
        "components = ['comp1', 'comp2', 'comp3', 'comp4']\n",
        "for comp in components:\n",
        "    # convert indicator to most recent date of component change\n",
        "    comp_rep.loc[comp_rep[comp] < 1, comp] = None # 0.0인 위치를 모두 None 으로 변경\n",
        "    comp_rep.loc[-comp_rep[comp].isnull(), comp] = comp_rep.loc[-comp_rep[comp].isnull(), 'datetime']\n",
        "    # -comp_rep[comp].isnull() comp_req 의 comp columns 에서 None 이 아닌 부분을 선택(즉 해당 부품의 교체가 발생된 날짜 선택)\n",
        "    # 해당 부분의 내용을 시간으로 변경\n",
        "    \n",
        "    # forward-fill the most-recent date of component change\n",
        "    # 나머지 빈 부분을 모두 해당 시간으로 교체 (즉 부품 교체일로 변경 날짜)\n",
        "    comp_rep[comp] = comp_rep[comp].fillna(method='ffill')\n",
        "\n",
        "# remove dates in 2014 (may have NaN or future component change dates)    \n",
        "# 2014년 이상의 데이터만 선택\n",
        "comp_rep = comp_rep.loc[comp_rep['datetime'] > pd.to_datetime('2015-01-01')]\n",
        "\n",
        "# replace dates of most recent component change with days since most recent component change\n",
        "# 각 comp 내용을 부품 교체일 부터 얼마나 지났는지로 변경\n",
        "for comp in components:\n",
        "    comp_rep[comp] = (comp_rep['datetime'] - comp_rep[comp]) / np.timedelta64(1, 'D')\n",
        "    "
      ],
      "execution_count": 8,
      "outputs": [
        {
          "output_type": "stream",
          "text": [
            "/usr/local/lib/python3.7/dist-packages/pandas/core/arrays/datetimelike.py:1345: PerformanceWarning: Adding/subtracting object-dtype array to DatetimeArray not vectorized\n",
            "  PerformanceWarning,\n"
          ],
          "name": "stderr"
        }
      ]
    },
    {
      "cell_type": "code",
      "metadata": {
        "id": "De7zfgR9HgHT"
      },
      "source": [
        "# 통합 과정\n",
        "final_feat = telemetry_feat.merge(error_count, on=['datetime', 'machineID'], how='left')\n",
        "final_feat = final_feat.merge(comp_rep, on=['datetime', 'machineID'], how='left')\n",
        "final_feat = final_feat.merge(machines, on=['machineID'], how='left')"
      ],
      "execution_count": 9,
      "outputs": []
    },
    {
      "cell_type": "code",
      "metadata": {
        "id": "y5AOP1E0HgHT"
      },
      "source": [
        "# failure 결합\n",
        "labeled_features = final_feat.merge(failures, on=['datetime', 'machineID'], how='left')\n",
        "# fillna 가 str일 경우 작동하지 않는 문제 발견 하여 comp 의 마지막 단어를 추출하여 fillna 진행후 comp를 다시 붙이는 방식으로 해결\n",
        "# labeled_features = labeled_features.fillna(method='bfill', limit=7) # fill backward up to 24h\n",
        "labeled_features.failure = 'comp' + labeled_features.failure.str[-1].fillna(method='bfill', limit=7) # 앞선 7칸을 failure 로 설정\n",
        "labeled_features.failure = labeled_features.failure.fillna('none') # 나머지를 none 으로 설정"
      ],
      "execution_count": 10,
      "outputs": []
    },
    {
      "cell_type": "markdown",
      "metadata": {
        "id": "unjq886aHgHU"
      },
      "source": [
        "Train"
      ]
    },
    {
      "cell_type": "code",
      "metadata": {
        "id": "fEbseuHTHgHU"
      },
      "source": [
        "from sklearn.ensemble import GradientBoostingClassifier\n",
        "\n",
        "# make test and training splits\n",
        "threshold_dates = [[pd.to_datetime('2015-07-31 01:00:00'), pd.to_datetime('2015-08-01 01:00:00')],\n",
        "                   [pd.to_datetime('2015-08-31 01:00:00'), pd.to_datetime('2015-09-01 01:00:00')],\n",
        "                   [pd.to_datetime('2015-09-30 01:00:00'), pd.to_datetime('2015-10-01 01:00:00')]]\n",
        "\n",
        "test_results = []\n",
        "models = []\n",
        "for last_train_date, first_test_date in threshold_dates:\n",
        "    # split out training and test data\n",
        "    train_y = labeled_features.loc[labeled_features['datetime'] < last_train_date, 'failure']\n",
        "    train_X = pd.get_dummies(labeled_features.loc[labeled_features['datetime'] < last_train_date].drop(['datetime',\n",
        "                                                                                                        'machineID',\n",
        "                                                                                                        'failure'], 1))\n",
        "    test_X = pd.get_dummies(labeled_features.loc[labeled_features['datetime'] > first_test_date].drop(['datetime',\n",
        "                                                                                                       'machineID',\n",
        "                                                                                                       'failure'], 1))\n",
        "    # train and predict using the model, storing results for later\n",
        "    my_model = GradientBoostingClassifier(random_state=42)\n",
        "    my_model.fit(train_X, train_y)\n",
        "    test_result = pd.DataFrame(labeled_features.loc[labeled_features['datetime'] > first_test_date])\n",
        "    test_result['predicted_failure'] = my_model.predict(test_X)\n",
        "    test_results.append(test_result)\n",
        "    models.append(my_model)"
      ],
      "execution_count": 11,
      "outputs": []
    },
    {
      "cell_type": "markdown",
      "metadata": {
        "id": "b2uAl5lkHgHU"
      },
      "source": [
        "Evaluation"
      ]
    },
    {
      "cell_type": "code",
      "metadata": {
        "colab": {
          "base_uri": "https://localhost:8080/",
          "height": 478
        },
        "id": "9GVBU8iWHgHU",
        "outputId": "5979cb8c-5f4b-4dc7-a0b0-338c033dc6e2"
      },
      "source": [
        "%matplotlib inline\n",
        "import matplotlib.pyplot as plt\n",
        "import seaborn as sns\n",
        "\n",
        "sns.set_style(\"darkgrid\")\n",
        "plt.figure(figsize=(10, 6))\n",
        "labels, importances = zip(*sorted(zip(test_X.columns, models[0].feature_importances_), reverse=True, key=lambda x: x[1]))\n",
        "plt.xticks(range(len(labels)), labels)\n",
        "_, labels = plt.xticks()\n",
        "plt.setp(labels, rotation=90)\n",
        "plt.bar(range(len(importances)), importances)\n",
        "plt.ylabel('Importance')"
      ],
      "execution_count": 13,
      "outputs": [
        {
          "output_type": "execute_result",
          "data": {
            "text/plain": [
              "Text(0, 0.5, 'Importance')"
            ]
          },
          "metadata": {
            "tags": []
          },
          "execution_count": 13
        },
        {
          "output_type": "display_data",
          "data": {
            "image/png": "[encoded data removed]",
            "text/plain": [
              "<Figure size 720x432 with 1 Axes>"
            ]
          },
          "metadata": {
            "tags": []
          }
        }
      ]
    },
    {
      "cell_type": "code",
      "metadata": {
        "colab": {
          "base_uri": "https://localhost:8080/",
          "height": 321
        },
        "id": "xt8-Ld5DHgHV",
        "outputId": "427ac96c-622a-45e1-a398-eb2d433909ca"
      },
      "source": [
        "sns.set_style(\"darkgrid\")\n",
        "plt.figure(figsize=(8, 4))\n",
        "labeled_features['failure'].value_counts().plot(kind='bar')\n",
        "plt.xlabel('Component failing')\n",
        "plt.ylabel('Count')"
      ],
      "execution_count": 14,
      "outputs": [
        {
          "output_type": "execute_result",
          "data": {
            "text/plain": [
              "Text(0, 0.5, 'Count')"
            ]
          },
          "metadata": {
            "tags": []
          },
          "execution_count": 14
        },
        {
          "output_type": "display_data",
          "data": {
            "image/png": "[encoded data removed]",
            "text/plain": [
              "<Figure size 576x288 with 1 Axes>"
            ]
          },
          "metadata": {
            "tags": []
          }
        }
      ]
    },
    {
      "cell_type": "code",
      "metadata": {
        "id": "JvNHmL1nHgHV"
      },
      "source": [
        "from sklearn.metrics import confusion_matrix, recall_score, accuracy_score, precision_score\n",
        "\n",
        "def Evaluate(predicted, actual, labels):\n",
        "    output_labels = []\n",
        "    output = []\n",
        "    \n",
        "    # Calculate and display confusion matrix\n",
        "    cm = confusion_matrix(actual, predicted, labels=labels)\n",
        "    print('Confusion matrix\\n- x-axis is true labels (none, comp1, etc.)\\n- y-axis is predicted labels')\n",
        "    print(cm)\n",
        "    \n",
        "    # Calculate precision, recall, and F1 score\n",
        "    accuracy = np.array([float(np.trace(cm)) / np.sum(cm)] * len(labels))\n",
        "    precision = precision_score(actual, predicted, average=None, labels=labels)\n",
        "    recall = recall_score(actual, predicted, average=None, labels=labels)\n",
        "    f1 = 2 * precision * recall / (precision + recall)\n",
        "    output.extend([accuracy.tolist(), precision.tolist(), recall.tolist(), f1.tolist()])\n",
        "    output_labels.extend(['accuracy', 'precision', 'recall', 'F1'])\n",
        "    \n",
        "    # Calculate the macro versions of these metrics\n",
        "    output.extend([[np.mean(precision)] * len(labels),\n",
        "                   [np.mean(recall)] * len(labels),\n",
        "                   [np.mean(f1)] * len(labels)])\n",
        "    output_labels.extend(['macro precision', 'macro recall', 'macro F1'])\n",
        "    \n",
        "    # Find the one-vs.-all confusion matrix\n",
        "    cm_row_sums = cm.sum(axis = 1)\n",
        "    cm_col_sums = cm.sum(axis = 0)\n",
        "    s = np.zeros((2, 2))\n",
        "    for i in range(len(labels)):\n",
        "        v = np.array([[cm[i, i],\n",
        "                       cm_row_sums[i] - cm[i, i]],\n",
        "                      [cm_col_sums[i] - cm[i, i],\n",
        "                       np.sum(cm) + cm[i, i] - (cm_row_sums[i] + cm_col_sums[i])]])\n",
        "        s += v\n",
        "    s_row_sums = s.sum(axis = 1)\n",
        "    \n",
        "    # Add average accuracy and micro-averaged  precision/recall/F1\n",
        "    avg_accuracy = [np.trace(s) / np.sum(s)] * len(labels)\n",
        "    micro_prf = [float(s[0,0]) / s_row_sums[0]] * len(labels)\n",
        "    output.extend([avg_accuracy, micro_prf])\n",
        "    output_labels.extend(['average accuracy',\n",
        "                          'micro-averaged precision/recall/F1'])\n",
        "    \n",
        "    # Compute metrics for the majority classifier\n",
        "    mc_index = np.where(cm_row_sums == np.max(cm_row_sums))[0][0]\n",
        "    cm_row_dist = cm_row_sums / float(np.sum(cm))\n",
        "    mc_accuracy = 0 * cm_row_dist; mc_accuracy[mc_index] = cm_row_dist[mc_index]\n",
        "    mc_recall = 0 * cm_row_dist; mc_recall[mc_index] = 1\n",
        "    mc_precision = 0 * cm_row_dist\n",
        "    mc_precision[mc_index] = cm_row_dist[mc_index]\n",
        "    mc_F1 = 0 * cm_row_dist;\n",
        "    mc_F1[mc_index] = 2 * mc_precision[mc_index] / (mc_precision[mc_index] + 1)\n",
        "    output.extend([mc_accuracy.tolist(), mc_recall.tolist(),\n",
        "                   mc_precision.tolist(), mc_F1.tolist()])\n",
        "    output_labels.extend(['majority class accuracy', 'majority class recall',\n",
        "                          'majority class precision', 'majority class F1'])\n",
        "        \n",
        "    # Random accuracy and kappa\n",
        "    cm_col_dist = cm_col_sums / float(np.sum(cm))\n",
        "    exp_accuracy = np.array([np.sum(cm_row_dist * cm_col_dist)] * len(labels))\n",
        "    kappa = (accuracy - exp_accuracy) / (1 - exp_accuracy)\n",
        "    output.extend([exp_accuracy.tolist(), kappa.tolist()])\n",
        "    output_labels.extend(['expected accuracy', 'kappa'])\n",
        "    \n",
        "\n",
        "    # Random guess\n",
        "    rg_accuracy = np.ones(len(labels)) / float(len(labels))\n",
        "    rg_precision = cm_row_dist\n",
        "    rg_recall = np.ones(len(labels)) / float(len(labels))\n",
        "    rg_F1 = 2 * cm_row_dist / (len(labels) * cm_row_dist + 1)\n",
        "    output.extend([rg_accuracy.tolist(), rg_precision.tolist(),\n",
        "                   rg_recall.tolist(), rg_F1.tolist()])\n",
        "    output_labels.extend(['random guess accuracy', 'random guess precision',\n",
        "                          'random guess recall', 'random guess F1'])\n",
        "    \n",
        "    # Random weighted guess\n",
        "    rwg_accuracy = np.ones(len(labels)) * sum(cm_row_dist**2)\n",
        "    rwg_precision = cm_row_dist\n",
        "    rwg_recall = cm_row_dist\n",
        "    rwg_F1 = cm_row_dist\n",
        "    output.extend([rwg_accuracy.tolist(), rwg_precision.tolist(),\n",
        "                   rwg_recall.tolist(), rwg_F1.tolist()])\n",
        "    output_labels.extend(['random weighted guess accuracy',\n",
        "                          'random weighted guess precision',\n",
        "                          'random weighted guess recall',\n",
        "                          'random weighted guess F1'])\n",
        "\n",
        "    output_df = pd.DataFrame(output, columns=labels)\n",
        "    output_df.index = output_labels\n",
        "                  \n",
        "    return output_df"
      ],
      "execution_count": 15,
      "outputs": []
    },
    {
      "cell_type": "code",
      "metadata": {
        "colab": {
          "base_uri": "https://localhost:8080/",
          "height": 1000
        },
        "id": "bYLgbnekHgHV",
        "outputId": "921c3bd3-e9b9-496a-ebb4-b670c78f8e11"
      },
      "source": [
        "evaluation_results = []\n",
        "for i, test_result in enumerate(test_results):\n",
        "    print('\\nSplit %d:' % (i+1))\n",
        "    evaluation_result = Evaluate(actual = test_result['failure'],\n",
        "                                 predicted = test_result['predicted_failure'],\n",
        "                                 labels = ['none', 'comp1', 'comp2', 'comp3', 'comp4'])\n",
        "    evaluation_results.append(evaluation_result)\n",
        "evaluation_results[0]  # show full results for first split only"
      ],
      "execution_count": 16,
      "outputs": [
        {
          "output_type": "stream",
          "text": [
            "\n",
            "Split 1:\n",
            "Confusion matrix\n",
            "- x-axis is true labels (none, comp1, etc.)\n",
            "- y-axis is predicted labels\n",
            "[[119594     21      0      4      3]\n",
            " [    20    519      3      0      0]\n",
            " [     0      0    849      2     10]\n",
            " [    16      3      0    368      1]\n",
            " [     4      3      0      0    500]]\n",
            "\n",
            "Split 2:\n",
            "Confusion matrix\n",
            "- x-axis is true labels (none, comp1, etc.)\n",
            "- y-axis is predicted labels\n",
            "[[91845  3285   143     1    12]\n",
            " [   37   379     2     0     4]\n",
            " [   17     0   663     0    20]\n",
            " [  290     5     2     7     2]\n",
            " [    6     2     4     0   388]]\n",
            "\n",
            "Split 3:\n",
            "Confusion matrix\n",
            "- x-axis is true labels (none, comp1, etc.)\n",
            "- y-axis is predicted labels\n",
            "[[71634    31    31    14    28]\n",
            " [   23   293     2     1     1]\n",
            " [    2     1   545     0     0]\n",
            " [   28     1     1   194     0]\n",
            " [   12     1     5     0   262]]\n"
          ],
          "name": "stdout"
        },
        {
          "output_type": "execute_result",
          "data": {
            "text/html": [
              "<div>\n",
              "<style scoped>\n",
              "    .dataframe tbody tr th:only-of-type {\n",
              "        vertical-align: middle;\n",
              "    }\n",
              "\n",
              "    .dataframe tbody tr th {\n",
              "        vertical-align: top;\n",
              "    }\n",
              "\n",
              "    .dataframe thead th {\n",
              "        text-align: right;\n",
              "    }\n",
              "</style>\n",
              "<table border=\"1\" class=\"dataframe\">\n",
              "  <thead>\n",
              "    <tr style=\"text-align: right;\">\n",
              "      <th></th>\n",
              "      <th>none</th>\n",
              "      <th>comp1</th>\n",
              "      <th>comp2</th>\n",
              "      <th>comp3</th>\n",
              "      <th>comp4</th>\n",
              "    </tr>\n",
              "  </thead>\n",
              "  <tbody>\n",
              "    <tr>\n",
              "      <th>accuracy</th>\n",
              "      <td>0.999262</td>\n",
              "      <td>0.999262</td>\n",
              "      <td>0.999262</td>\n",
              "      <td>0.999262</td>\n",
              "      <td>0.999262</td>\n",
              "    </tr>\n",
              "    <tr>\n",
              "      <th>precision</th>\n",
              "      <td>0.999666</td>\n",
              "      <td>0.950549</td>\n",
              "      <td>0.996479</td>\n",
              "      <td>0.983957</td>\n",
              "      <td>0.972763</td>\n",
              "    </tr>\n",
              "    <tr>\n",
              "      <th>recall</th>\n",
              "      <td>0.999766</td>\n",
              "      <td>0.957565</td>\n",
              "      <td>0.986063</td>\n",
              "      <td>0.948454</td>\n",
              "      <td>0.986193</td>\n",
              "    </tr>\n",
              "    <tr>\n",
              "      <th>F1</th>\n",
              "      <td>0.999716</td>\n",
              "      <td>0.954044</td>\n",
              "      <td>0.991243</td>\n",
              "      <td>0.965879</td>\n",
              "      <td>0.979432</td>\n",
              "    </tr>\n",
              "    <tr>\n",
              "      <th>macro precision</th>\n",
              "      <td>0.980683</td>\n",
              "      <td>0.980683</td>\n",
              "      <td>0.980683</td>\n",
              "      <td>0.980683</td>\n",
              "      <td>0.980683</td>\n",
              "    </tr>\n",
              "    <tr>\n",
              "      <th>macro recall</th>\n",
              "      <td>0.975608</td>\n",
              "      <td>0.975608</td>\n",
              "      <td>0.975608</td>\n",
              "      <td>0.975608</td>\n",
              "      <td>0.975608</td>\n",
              "    </tr>\n",
              "    <tr>\n",
              "      <th>macro F1</th>\n",
              "      <td>0.978063</td>\n",
              "      <td>0.978063</td>\n",
              "      <td>0.978063</td>\n",
              "      <td>0.978063</td>\n",
              "      <td>0.978063</td>\n",
              "    </tr>\n",
              "    <tr>\n",
              "      <th>average accuracy</th>\n",
              "      <td>0.999705</td>\n",
              "      <td>0.999705</td>\n",
              "      <td>0.999705</td>\n",
              "      <td>0.999705</td>\n",
              "      <td>0.999705</td>\n",
              "    </tr>\n",
              "    <tr>\n",
              "      <th>micro-averaged precision/recall/F1</th>\n",
              "      <td>0.999262</td>\n",
              "      <td>0.999262</td>\n",
              "      <td>0.999262</td>\n",
              "      <td>0.999262</td>\n",
              "      <td>0.999262</td>\n",
              "    </tr>\n",
              "    <tr>\n",
              "      <th>majority class accuracy</th>\n",
              "      <td>0.981152</td>\n",
              "      <td>0.000000</td>\n",
              "      <td>0.000000</td>\n",
              "      <td>0.000000</td>\n",
              "      <td>0.000000</td>\n",
              "    </tr>\n",
              "    <tr>\n",
              "      <th>majority class recall</th>\n",
              "      <td>1.000000</td>\n",
              "      <td>0.000000</td>\n",
              "      <td>0.000000</td>\n",
              "      <td>0.000000</td>\n",
              "      <td>0.000000</td>\n",
              "    </tr>\n",
              "    <tr>\n",
              "      <th>majority class precision</th>\n",
              "      <td>0.981152</td>\n",
              "      <td>0.000000</td>\n",
              "      <td>0.000000</td>\n",
              "      <td>0.000000</td>\n",
              "      <td>0.000000</td>\n",
              "    </tr>\n",
              "    <tr>\n",
              "      <th>majority class F1</th>\n",
              "      <td>0.990486</td>\n",
              "      <td>0.000000</td>\n",
              "      <td>0.000000</td>\n",
              "      <td>0.000000</td>\n",
              "      <td>0.000000</td>\n",
              "    </tr>\n",
              "    <tr>\n",
              "      <th>expected accuracy</th>\n",
              "      <td>0.962852</td>\n",
              "      <td>0.962852</td>\n",
              "      <td>0.962852</td>\n",
              "      <td>0.962852</td>\n",
              "      <td>0.962852</td>\n",
              "    </tr>\n",
              "    <tr>\n",
              "      <th>kappa</th>\n",
              "      <td>0.980129</td>\n",
              "      <td>0.980129</td>\n",
              "      <td>0.980129</td>\n",
              "      <td>0.980129</td>\n",
              "      <td>0.980129</td>\n",
              "    </tr>\n",
              "    <tr>\n",
              "      <th>random guess accuracy</th>\n",
              "      <td>0.200000</td>\n",
              "      <td>0.200000</td>\n",
              "      <td>0.200000</td>\n",
              "      <td>0.200000</td>\n",
              "      <td>0.200000</td>\n",
              "    </tr>\n",
              "    <tr>\n",
              "      <th>random guess precision</th>\n",
              "      <td>0.981152</td>\n",
              "      <td>0.004446</td>\n",
              "      <td>0.007062</td>\n",
              "      <td>0.003182</td>\n",
              "      <td>0.004158</td>\n",
              "    </tr>\n",
              "    <tr>\n",
              "      <th>random guess recall</th>\n",
              "      <td>0.200000</td>\n",
              "      <td>0.200000</td>\n",
              "      <td>0.200000</td>\n",
              "      <td>0.200000</td>\n",
              "      <td>0.200000</td>\n",
              "    </tr>\n",
              "    <tr>\n",
              "      <th>random guess F1</th>\n",
              "      <td>0.332269</td>\n",
              "      <td>0.008698</td>\n",
              "      <td>0.013642</td>\n",
              "      <td>0.006265</td>\n",
              "      <td>0.008148</td>\n",
              "    </tr>\n",
              "    <tr>\n",
              "      <th>random weighted guess accuracy</th>\n",
              "      <td>0.962755</td>\n",
              "      <td>0.962755</td>\n",
              "      <td>0.962755</td>\n",
              "      <td>0.962755</td>\n",
              "      <td>0.962755</td>\n",
              "    </tr>\n",
              "    <tr>\n",
              "      <th>random weighted guess precision</th>\n",
              "      <td>0.981152</td>\n",
              "      <td>0.004446</td>\n",
              "      <td>0.007062</td>\n",
              "      <td>0.003182</td>\n",
              "      <td>0.004158</td>\n",
              "    </tr>\n",
              "    <tr>\n",
              "      <th>random weighted guess recall</th>\n",
              "      <td>0.981152</td>\n",
              "      <td>0.004446</td>\n",
              "      <td>0.007062</td>\n",
              "      <td>0.003182</td>\n",
              "      <td>0.004158</td>\n",
              "    </tr>\n",
              "    <tr>\n",
              "      <th>random weighted guess F1</th>\n",
              "      <td>0.981152</td>\n",
              "      <td>0.004446</td>\n",
              "      <td>0.007062</td>\n",
              "      <td>0.003182</td>\n",
              "      <td>0.004158</td>\n",
              "    </tr>\n",
              "  </tbody>\n",
              "</table>\n",
              "</div>"
            ],
            "text/plain": [
              "                                        none     comp1  ...     comp3     comp4\n",
              "accuracy                            0.999262  0.999262  ...  0.999262  0.999262\n",
              "precision                           0.999666  0.950549  ...  0.983957  0.972763\n",
              "recall                              0.999766  0.957565  ...  0.948454  0.986193\n",
              "F1                                  0.999716  0.954044  ...  0.965879  0.979432\n",
              "macro precision                     0.980683  0.980683  ...  0.980683  0.980683\n",
              "macro recall                        0.975608  0.975608  ...  0.975608  0.975608\n",
              "macro F1                            0.978063  0.978063  ...  0.978063  0.978063\n",
              "average accuracy                    0.999705  0.999705  ...  0.999705  0.999705\n",
              "micro-averaged precision/recall/F1  0.999262  0.999262  ...  0.999262  0.999262\n",
              "majority class accuracy             0.981152  0.000000  ...  0.000000  0.000000\n",
              "majority class recall               1.000000  0.000000  ...  0.000000  0.000000\n",
              "majority class precision            0.981152  0.000000  ...  0.000000  0.000000\n",
              "majority class F1                   0.990486  0.000000  ...  0.000000  0.000000\n",
              "expected accuracy                   0.962852  0.962852  ...  0.962852  0.962852\n",
              "kappa                               0.980129  0.980129  ...  0.980129  0.980129\n",
              "random guess accuracy               0.200000  0.200000  ...  0.200000  0.200000\n",
              "random guess precision              0.981152  0.004446  ...  0.003182  0.004158\n",
              "random guess recall                 0.200000  0.200000  ...  0.200000  0.200000\n",
              "random guess F1                     0.332269  0.008698  ...  0.006265  0.008148\n",
              "random weighted guess accuracy      0.962755  0.962755  ...  0.962755  0.962755\n",
              "random weighted guess precision     0.981152  0.004446  ...  0.003182  0.004158\n",
              "random weighted guess recall        0.981152  0.004446  ...  0.003182  0.004158\n",
              "random weighted guess F1            0.981152  0.004446  ...  0.003182  0.004158\n",
              "\n",
              "[23 rows x 5 columns]"
            ]
          },
          "metadata": {
            "tags": []
          },
          "execution_count": 16
        }
      ]
    },
    {
      "cell_type": "code",
      "metadata": {
        "id": "r4USYhtoYVeU"
      },
      "source": [],
      "execution_count": null,
      "outputs": []
    }
  ]
}